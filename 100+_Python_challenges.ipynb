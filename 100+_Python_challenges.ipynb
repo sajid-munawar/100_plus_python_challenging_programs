{
  "nbformat": 4,
  "nbformat_minor": 0,
  "metadata": {
    "colab": {
      "name": "100+ Python challenges.ipynb",
      "provenance": [],
      "collapsed_sections": [],
      "authorship_tag": "ABX9TyM/Qz+C25MzrUHnbRBWZNxN",
      "include_colab_link": true
    },
    "kernelspec": {
      "name": "python3",
      "display_name": "Python 3"
    },
    "language_info": {
      "name": "python"
    }
  },
  "cells": [
    {
      "cell_type": "markdown",
      "metadata": {
        "id": "view-in-github",
        "colab_type": "text"
      },
      "source": [
        "<a href=\"https://colab.research.google.com/github/sajid-munawar/100_plus_python_challenging_programs/blob/master/100%2B_Python_challenges.ipynb\" target=\"_parent\"><img src=\"https://colab.research.google.com/assets/colab-badge.svg\" alt=\"Open In Colab\"/></a>"
      ]
    },
    {
      "cell_type": "markdown",
      "source": [
        "100+ Python challenging programming exercises\n",
        "\n",
        "Level description\n",
        "\n",
        "\n",
        "Level 1\tBeginner:\n",
        "\n",
        "Means someone who has just gone through an introductory Python course. He can solve some problems with 1 or 2 Python classes or functions. Normally, the answers could directly be found in the textbooks.\n",
        "\n",
        "Level 2 Intermediate:\n",
        "\n",
        "Means someone who has just learned Python, but already has a relatively strong programming background from before. He should be able to solve problems which may involve 3 or 3 Python classes or functions. The answers cannot be directly be found in the textbooks.\n",
        "\n",
        "Level 3\tAdvanced:\n",
        "\n",
        "He should use Python to solve more complex problem using more rich libraries functions and data structures and algorithms. He is supposed to solve the problem using several Python standard packages and advanced techniques."
      ],
      "metadata": {
        "id": "p1rDPQYd_5vo"
      }
    },
    {
      "cell_type": "markdown",
      "source": [
        "\n",
        "\n",
        "2.\tProblem template\n",
        "\n",
        "#----------------------------------------#\n",
        "Question\n",
        "\n",
        "Hints\n",
        "\n",
        "Solution\n",
        "\n",
        "3.\tQuestions\n",
        "\n",
        "#----------------------------------------#"
      ],
      "metadata": {
        "id": "z38U3k4_BJDQ"
      }
    },
    {
      "cell_type": "code",
      "source": [
        "%4096"
      ],
      "metadata": {
        "colab": {
          "base_uri": "https://localhost:8080/"
        },
        "id": "voIPG3yZce9e",
        "outputId": "65f0b953-db54-4f6d-a9ff-2aef1bd869b0"
      },
      "execution_count": null,
      "outputs": [
        {
          "output_type": "execute_result",
          "data": {
            "text/plain": [
              "1"
            ]
          },
          "metadata": {},
          "execution_count": 30
        }
      ]
    },
    {
      "cell_type": "code",
      "source": [
        "def calculate_storage(filesize):\n",
        "    block_size = 4096\n",
        "    # Use floor division to calculate how many blocks are fully occupied\n",
        "    full_blocks = filesize//block_size\n",
        "    # Use the modulo operator to check whether there's any remainder\n",
        "    partial_block_remainder = \n",
        "    # Depending on whether there's a remainder or not, return\n",
        "    # the total number of bytes required to allocate enough blocks\n",
        "    # to store your data.\n",
        "    if partial_block_remainder >0:\n",
        "        return block_size*2\n",
        "    return block_size\n",
        "\n",
        "print(calculate_storage(1))    # Should be 4096\n",
        "print(calculate_storage(4096)) # Should be 4096\n",
        "print(calculate_storage(4097)) # Should be 8192\n",
        "print(calculate_storage(6000)) # Should be 8192"
      ],
      "metadata": {
        "colab": {
          "base_uri": "https://localhost:8080/"
        },
        "id": "Ry6qORWQYQF9",
        "outputId": "4e1a48ec-b0e2-4fb7-dc5a-d31ce9f35156"
      },
      "execution_count": null,
      "outputs": [
        {
          "output_type": "stream",
          "name": "stdout",
          "text": [
            "8192\n",
            "4096\n",
            "8192\n",
            "8192\n"
          ]
        }
      ]
    },
    {
      "cell_type": "code",
      "source": [
        "10//10"
      ],
      "metadata": {
        "colab": {
          "base_uri": "https://localhost:8080/"
        },
        "id": "JcVP1s5FbPe5",
        "outputId": "7cafb67d-c9ef-4bf0-8660-12885c2de5e3"
      },
      "execution_count": null,
      "outputs": [
        {
          "output_type": "execute_result",
          "data": {
            "text/plain": [
              "1"
            ]
          },
          "metadata": {},
          "execution_count": 24
        }
      ]
    },
    {
      "cell_type": "code",
      "source": [
        "def calculate_storage(filesize):\n",
        "    block_size = 4096\n",
        "    # Use floor division to calculate how many blocks are fully occupied\n",
        "    full_blocks = filesize//block_size\n",
        "    # Use the modulo operator to check whether there's any remainder\n",
        "    partial_block_remainder =% \n",
        "    # Depending on whether there's a remainder or not, return\n",
        "    # the total number of bytes required to allocate enough blocks\n",
        "    # to store your data.\n",
        "    if partial_block_remainder >0:\n",
        "        return block_size*2\n",
        "    return block_size\n",
        "\n",
        "print(calculate_storage(1))    # Should be 4096\n",
        "print(calculate_storage(4096)) # Should be 4096\n",
        "print(calculate_storage(4097)) # Should be 8192\n",
        "print(calculate_storage(6000)) # Should be 8192"
      ],
      "metadata": {
        "colab": {
          "base_uri": "https://localhost:8080/"
        },
        "id": "WxnoHT_NYQYI",
        "outputId": "5a32f95b-fe61-426e-a8ff-18d283ac8c32"
      },
      "execution_count": null,
      "outputs": [
        {
          "output_type": "stream",
          "name": "stdout",
          "text": [
            "10\n",
            "20\n",
            "20\n",
            "20\n"
          ]
        }
      ]
    },
    {
      "cell_type": "code",
      "source": [
        "file_size=int(input('file size'))\n",
        "block_size=4096\n",
        "full_blocks=file_size%block_size\n",
        "full_blocks\n",
        "# partial_block_remainder=\n",
        "# if partial_block_remainder >0:\n",
        "  # return 4096"
      ],
      "metadata": {
        "colab": {
          "base_uri": "https://localhost:8080/"
        },
        "id": "Wdsi9H0NYQg_",
        "outputId": "5f6d3860-74c7-4d27-841e-55899ca81df3"
      },
      "execution_count": null,
      "outputs": [
        {
          "name": "stdout",
          "output_type": "stream",
          "text": [
            "file size4444\n"
          ]
        },
        {
          "output_type": "execute_result",
          "data": {
            "text/plain": [
              "348"
            ]
          },
          "metadata": {},
          "execution_count": 35
        }
      ]
    },
    {
      "cell_type": "code",
      "source": [
        "\"big\" > \"small\""
      ],
      "metadata": {
        "colab": {
          "base_uri": "https://localhost:8080/"
        },
        "id": "A6l_1s_YYQq7",
        "outputId": "20c90844-58bf-41dc-fba8-857a400de805"
      },
      "execution_count": null,
      "outputs": [
        {
          "output_type": "execute_result",
          "data": {
            "text/plain": [
              "False"
            ]
          },
          "metadata": {},
          "execution_count": 36
        }
      ]
    },
    {
      "cell_type": "code",
      "source": [
        "def sum(x, y):\n",
        "\t\treturn(x+y)\n",
        "print(sum(sum(1,2), sum(3,4)))"
      ],
      "metadata": {
        "colab": {
          "base_uri": "https://localhost:8080/"
        },
        "id": "TcRlfeNoZUNz",
        "outputId": "b0f0ef70-60b7-4b07-d824-3afbf599f52f"
      },
      "execution_count": null,
      "outputs": [
        {
          "output_type": "stream",
          "name": "stdout",
          "text": [
            "10\n"
          ]
        }
      ]
    },
    {
      "cell_type": "code",
      "source": [
        "((10 >= 5*2) and (10 <= 5*2))"
      ],
      "metadata": {
        "colab": {
          "base_uri": "https://localhost:8080/"
        },
        "id": "muG4oswkpI0U",
        "outputId": "6a11791f-2110-4bd2-aa56-a540ff3fd3a0"
      },
      "execution_count": null,
      "outputs": [
        {
          "output_type": "execute_result",
          "data": {
            "text/plain": [
              "True"
            ]
          },
          "metadata": {},
          "execution_count": 39
        }
      ]
    },
    {
      "cell_type": "markdown",
      "source": [
        "\n",
        "Question 1\n",
        "Level 1\n",
        "\n",
        "Question:\n",
        "Write a program which will find all such numbers which are divisible by 7 but are not a multiple of 5,\n",
        "between 2000 and 3200 (both included).\n",
        "The numbers obtained should be printed in a comma-separated sequence on a single line."
      ],
      "metadata": {
        "id": "u95RQp9yBwad"
      }
    },
    {
      "cell_type": "code",
      "source": [
        "for i in range(2000,3200+1):\n",
        "  if i%7==0 and i%5!=0:\n",
        "    print(i,end=',')"
      ],
      "metadata": {
        "colab": {
          "base_uri": "https://localhost:8080/"
        },
        "id": "v2LLFWmSB9nu",
        "outputId": "2b891f4f-47bc-4a03-927a-8b6281b11c6b"
      },
      "execution_count": null,
      "outputs": [
        {
          "output_type": "stream",
          "name": "stdout",
          "text": [
            "2002,2009,2016,2023,2037,2044,2051,2058,2072,2079,2086,2093,2107,2114,2121,2128,2142,2149,2156,2163,2177,2184,2191,2198,2212,2219,2226,2233,2247,2254,2261,2268,2282,2289,2296,2303,2317,2324,2331,2338,2352,2359,2366,2373,2387,2394,2401,2408,2422,2429,2436,2443,2457,2464,2471,2478,2492,2499,2506,2513,2527,2534,2541,2548,2562,2569,2576,2583,2597,2604,2611,2618,2632,2639,2646,2653,2667,2674,2681,2688,2702,2709,2716,2723,2737,2744,2751,2758,2772,2779,2786,2793,2807,2814,2821,2828,2842,2849,2856,2863,2877,2884,2891,2898,2912,2919,2926,2933,2947,2954,2961,2968,2982,2989,2996,3003,3017,3024,3031,3038,3052,3059,3066,3073,3087,3094,3101,3108,3122,3129,3136,3143,3157,3164,3171,3178,3192,3199,"
          ]
        }
      ]
    },
    {
      "cell_type": "code",
      "source": [
        "alist=[]\n",
        "for i in range(2000,3200+1):\n",
        "  if i%7==0 and i%5!=0:\n",
        "    alist.append(i)\n",
        "  # print(i,end=' ')\n",
        "print(alist)"
      ],
      "metadata": {
        "colab": {
          "base_uri": "https://localhost:8080/"
        },
        "id": "m55Gltg8DFXi",
        "outputId": "b11d6b70-a4de-4eba-feef-db6c57c8905c"
      },
      "execution_count": null,
      "outputs": [
        {
          "output_type": "stream",
          "name": "stdout",
          "text": [
            "[2002, 2009, 2016, 2023, 2037, 2044, 2051, 2058, 2072, 2079, 2086, 2093, 2107, 2114, 2121, 2128, 2142, 2149, 2156, 2163, 2177, 2184, 2191, 2198, 2212, 2219, 2226, 2233, 2247, 2254, 2261, 2268, 2282, 2289, 2296, 2303, 2317, 2324, 2331, 2338, 2352, 2359, 2366, 2373, 2387, 2394, 2401, 2408, 2422, 2429, 2436, 2443, 2457, 2464, 2471, 2478, 2492, 2499, 2506, 2513, 2527, 2534, 2541, 2548, 2562, 2569, 2576, 2583, 2597, 2604, 2611, 2618, 2632, 2639, 2646, 2653, 2667, 2674, 2681, 2688, 2702, 2709, 2716, 2723, 2737, 2744, 2751, 2758, 2772, 2779, 2786, 2793, 2807, 2814, 2821, 2828, 2842, 2849, 2856, 2863, 2877, 2884, 2891, 2898, 2912, 2919, 2926, 2933, 2947, 2954, 2961, 2968, 2982, 2989, 2996, 3003, 3017, 3024, 3031, 3038, 3052, 3059, 3066, 3073, 3087, 3094, 3101, 3108, 3122, 3129, 3136, 3143, 3157, 3164, 3171, 3178, 3192, 3199]\n"
          ]
        }
      ]
    },
    {
      "cell_type": "code",
      "source": [
        "alist1=[str(y) for y in range(2000,3201) if y%7==0 if y%5!=0]\n",
        "print(\",\".join((alist1)))\n",
        "# print(alist1)"
      ],
      "metadata": {
        "colab": {
          "base_uri": "https://localhost:8080/"
        },
        "id": "Yi4bFR2P8xPJ",
        "outputId": "824399d6-dcf5-4b6e-9caa-3bbfde8597fb"
      },
      "execution_count": null,
      "outputs": [
        {
          "output_type": "stream",
          "name": "stdout",
          "text": [
            "2002,2009,2016,2023,2037,2044,2051,2058,2072,2079,2086,2093,2107,2114,2121,2128,2142,2149,2156,2163,2177,2184,2191,2198,2212,2219,2226,2233,2247,2254,2261,2268,2282,2289,2296,2303,2317,2324,2331,2338,2352,2359,2366,2373,2387,2394,2401,2408,2422,2429,2436,2443,2457,2464,2471,2478,2492,2499,2506,2513,2527,2534,2541,2548,2562,2569,2576,2583,2597,2604,2611,2618,2632,2639,2646,2653,2667,2674,2681,2688,2702,2709,2716,2723,2737,2744,2751,2758,2772,2779,2786,2793,2807,2814,2821,2828,2842,2849,2856,2863,2877,2884,2891,2898,2912,2919,2926,2933,2947,2954,2961,2968,2982,2989,2996,3003,3017,3024,3031,3038,3052,3059,3066,3073,3087,3094,3101,3108,3122,3129,3136,3143,3157,3164,3171,3178,3192,3199\n"
          ]
        }
      ]
    },
    {
      "cell_type": "code",
      "source": [
        "\n",
        "\n",
        "# Hints:\n",
        "# Consider use range(#begin, #end) method\n",
        "\n",
        "# Solution:\n",
        "l=[]\n",
        "for i in range(2000, 3201):\n",
        "    if (i%7==0) and (i%5!=0):\n",
        "        l.append(str(i))\n",
        "\n",
        "print(','.join(l))\n",
        "#----------------------------------------#"
      ],
      "metadata": {
        "colab": {
          "base_uri": "https://localhost:8080/"
        },
        "id": "OtDSaVMdD40O",
        "outputId": "54029954-ee6f-4923-89e7-f82914fd160c"
      },
      "execution_count": null,
      "outputs": [
        {
          "output_type": "stream",
          "name": "stdout",
          "text": [
            "2002,,2009,,2016,,2023,,2037,,2044,,2051,,2058,,2072,,2079,,2086,,2093,,2107,,2114,,2121,,2128,,2142,,2149,,2156,,2163,,2177,,2184,,2191,,2198,,2212,,2219,,2226,,2233,,2247,,2254,,2261,,2268,,2282,,2289,,2296,,2303,,2317,,2324,,2331,,2338,,2352,,2359,,2366,,2373,,2387,,2394,,2401,,2408,,2422,,2429,,2436,,2443,,2457,,2464,,2471,,2478,,2492,,2499,,2506,,2513,,2527,,2534,,2541,,2548,,2562,,2569,,2576,,2583,,2597,,2604,,2611,,2618,,2632,,2639,,2646,,2653,,2667,,2674,,2681,,2688,,2702,,2709,,2716,,2723,,2737,,2744,,2751,,2758,,2772,,2779,,2786,,2793,,2807,,2814,,2821,,2828,,2842,,2849,,2856,,2863,,2877,,2884,,2891,,2898,,2912,,2919,,2926,,2933,,2947,,2954,,2961,,2968,,2982,,2989,,2996,,3003,,3017,,3024,,3031,,3038,,3052,,3059,,3066,,3073,,3087,,3094,,3101,,3108,,3122,,3129,,3136,,3143,,3157,,3164,,3171,,3178,,3192,,3199\n"
          ]
        }
      ]
    },
    {
      "cell_type": "markdown",
      "source": [
        "#----------------------------------------#\n",
        "Question 2\n",
        "Level 1\n",
        "\n",
        "Question:\n",
        "\n",
        "Write a program which can compute the factorial of a given numbers.\n",
        "The results should be printed in a comma-separated sequence on a single line.\n",
        "Suppose the following input is supplied to the program:\n",
        "\n",
        "8\n",
        "\n",
        "Then, the output should be:\n",
        "\n",
        "40320"
      ],
      "metadata": {
        "id": "p5qyxLNKEdi9"
      }
    },
    {
      "cell_type": "code",
      "source": [
        "factorial=1\n",
        "for n in range(1,9):\n",
        "  factorial=factorial*n\n",
        "print(factorial)"
      ],
      "metadata": {
        "colab": {
          "base_uri": "https://localhost:8080/"
        },
        "id": "NdxkSn-WKCP9",
        "outputId": "7d3b2f25-d282-4152-e1f8-a22b0335eb6c"
      },
      "execution_count": null,
      "outputs": [
        {
          "output_type": "stream",
          "name": "stdout",
          "text": [
            "40320\n"
          ]
        }
      ]
    },
    {
      "cell_type": "code",
      "source": [
        "num=int(input('please enter num'))\n",
        "a=1\n",
        "for i in range(1,num+1):\n",
        "  a*=i\n",
        "  print(a,end=',')"
      ],
      "metadata": {
        "colab": {
          "base_uri": "https://localhost:8080/"
        },
        "id": "t6_9mpMVOOx-",
        "outputId": "055957bc-10b6-42ec-b4be-ab19cf318831"
      },
      "execution_count": null,
      "outputs": [
        {
          "output_type": "stream",
          "name": "stdout",
          "text": [
            "please enter num8\n",
            "1,2,6,24,120,720,5040,40320,"
          ]
        }
      ]
    },
    {
      "cell_type": "code",
      "source": [
        "alist=[]\n",
        "num=int(input('please enter num'))\n",
        "a=1\n",
        "for i in range(1,num+1):\n",
        "  a*=i\n",
        "  alist.append(str(a))\n",
        "print(','.join(alist))"
      ],
      "metadata": {
        "colab": {
          "base_uri": "https://localhost:8080/"
        },
        "id": "oWVJjub2_zF1",
        "outputId": "ee4c75f5-5fd4-4241-8ea0-060fab24ac51"
      },
      "execution_count": null,
      "outputs": [
        {
          "output_type": "stream",
          "name": "stdout",
          "text": [
            "please enter num8\n",
            "1,2,6,24,120,720,5040,40320\n"
          ]
        }
      ]
    },
    {
      "cell_type": "code",
      "source": [
        "(lambda x:x*x-1)(7)"
      ],
      "metadata": {
        "colab": {
          "base_uri": "https://localhost:8080/"
        },
        "id": "WCrXL4IpAXre",
        "outputId": "8c5bbfc8-a9a3-40cb-fedf-1a24eccb9375"
      },
      "execution_count": null,
      "outputs": [
        {
          "output_type": "execute_result",
          "data": {
            "text/plain": [
              "48"
            ]
          },
          "metadata": {},
          "execution_count": 18
        }
      ]
    },
    {
      "cell_type": "code",
      "source": [
        "1*2*3*4*5*6*7*8"
      ],
      "metadata": {
        "id": "Z06kfKN1Oi1R",
        "colab": {
          "base_uri": "https://localhost:8080/"
        },
        "outputId": "1a56bd96-58ec-413a-daee-974e166f6658"
      },
      "execution_count": null,
      "outputs": [
        {
          "output_type": "execute_result",
          "data": {
            "text/plain": [
              "40320"
            ]
          },
          "metadata": {},
          "execution_count": 8
        }
      ]
    },
    {
      "cell_type": "code",
      "source": [
        "# Hints:\n",
        "# In case of input data being supplied to the question, it should be assumed to be a console input.\n",
        "\n",
        "# Solution:\n",
        "def fact(x):\n",
        "    if x == 0:\n",
        "        return 1\n",
        "    return x * fact(x - 1)\n",
        "\n",
        "x=int(input())\n",
        "print(fact(x))\n",
        "#----------------------------------------#"
      ],
      "metadata": {
        "colab": {
          "base_uri": "https://localhost:8080/"
        },
        "id": "K527fZk-v-qV",
        "outputId": "5d25a62b-bdbe-4285-e172-b9ec853bbb75"
      },
      "execution_count": null,
      "outputs": [
        {
          "output_type": "stream",
          "name": "stdout",
          "text": [
            "8\n",
            "40320\n"
          ]
        }
      ]
    },
    {
      "cell_type": "code",
      "source": [
        "def factorial(num):\n",
        "  y=1\n",
        "  while num>1:\n",
        "    y*=num\n",
        "    num-=1\n",
        "  print(y)"
      ],
      "metadata": {
        "id": "nQ24wY2NKHuL"
      },
      "execution_count": null,
      "outputs": []
    },
    {
      "cell_type": "code",
      "source": [
        "def abc(x):\n",
        "  if x==0:\n",
        "    return 1\n",
        "  # abc(x-4)\n",
        "  return x*fact(x-1)"
      ],
      "metadata": {
        "id": "IZY3HJnU1_N0"
      },
      "execution_count": null,
      "outputs": []
    },
    {
      "cell_type": "code",
      "source": [
        "# fact(968) max limit"
      ],
      "metadata": {
        "id": "_RFATstG4Fk8"
      },
      "execution_count": null,
      "outputs": []
    },
    {
      "cell_type": "markdown",
      "source": [
        "#----------------------------------------#\n",
        "Question 3\n",
        "Level 1\n",
        "\n",
        "Question:\n",
        "\n",
        "With a given integral number n, write a program to generate a dictionary that contains (i, i*i) such that is an integral number between 1 and n (both included). and then the program should print the dictionary.\n",
        "Suppose the following input is supplied to the program:\n",
        "\n",
        "8\n",
        "\n",
        "Then, the output should be:\n",
        "\n",
        "{1: 1, 2: 4, 3: 9, 4: 16, 5: 25, 6: 36, 7: 49, 8: 64}"
      ],
      "metadata": {
        "id": "HP8rm7_Y4IGB"
      }
    },
    {
      "cell_type": "code",
      "source": [
        "def dic(x):\n",
        "  dictionary={}\n",
        "  for i in range(1,x+1):\n",
        "    dictionary[i]=i*i\n",
        "  print(dictionary)"
      ],
      "metadata": {
        "id": "HANFBCOA5h1Z"
      },
      "execution_count": null,
      "outputs": []
    },
    {
      "cell_type": "code",
      "source": [
        "dic(8)"
      ],
      "metadata": {
        "colab": {
          "base_uri": "https://localhost:8080/"
        },
        "id": "5yzlXpjh6Uz-",
        "outputId": "9e5d1dc3-47f7-4805-ab6e-0244589f4513"
      },
      "execution_count": null,
      "outputs": [
        {
          "output_type": "stream",
          "name": "stdout",
          "text": [
            "{1: 1, 2: 4, 3: 9, 4: 16, 5: 25, 6: 36, 7: 49, 8: 64}\n"
          ]
        }
      ]
    },
    {
      "cell_type": "code",
      "source": [
        "# Hints:\n",
        "# In case of input data being supplied to the question, it should be assumed to be a console input.\n",
        "# Consider use dict()\n",
        "\n",
        "# Solution:\n",
        "n=int(input())\n",
        "d=dict()\n",
        "for i in range(1,n+1):\n",
        "    d[i]=i*i\n",
        "\n",
        "print(d)\n",
        "#----------------------------------------#"
      ],
      "metadata": {
        "id": "5vaMMCnY6WsL",
        "colab": {
          "base_uri": "https://localhost:8080/"
        },
        "outputId": "9a11546e-c883-4d2f-f31e-f3ca28387833"
      },
      "execution_count": null,
      "outputs": [
        {
          "output_type": "stream",
          "name": "stdout",
          "text": [
            "8\n",
            "{1: 1, 2: 4, 3: 9, 4: 16, 5: 25, 6: 36, 7: 49, 8: 64}\n"
          ]
        }
      ]
    },
    {
      "cell_type": "code",
      "source": [
        "#----------------------------------------#\n",
        "Question 4\n",
        "Level 1\n",
        "\n",
        "Question:\n",
        "\n",
        "Write a program which accepts a sequence of comma-separated numbers from console and generate a list and a tuple which contains every number.\n",
        "Suppose the following input is supplied to the program:\n",
        "\n",
        "34,67,55,33,12,98\n",
        "\n",
        "Then, the output should be:\n",
        "\n",
        "['34', '67', '55', '33', '12', '98']\n",
        "('34', '67', '55', '33', '12', '98')\n"
      ],
      "metadata": {
        "id": "bHmEiUWS62PK"
      },
      "execution_count": null,
      "outputs": []
    },
    {
      "cell_type": "code",
      "source": [
        "values=input()\n",
        "alist=values.split(',')\n",
        "tup=tuple(alist)\n",
        "print(alist)\n",
        "print(tup)"
      ],
      "metadata": {
        "colab": {
          "base_uri": "https://localhost:8080/"
        },
        "id": "sed7lJPT9pj_",
        "outputId": "0c3ffc05-bac7-4e6e-c4d0-3787ffafd120"
      },
      "execution_count": null,
      "outputs": [
        {
          "output_type": "stream",
          "name": "stdout",
          "text": [
            "22,33,44,55\n",
            "['22', '33', '44', '55']\n",
            "('22', '33', '44', '55')\n"
          ]
        }
      ]
    },
    {
      "cell_type": "code",
      "source": [
        "# Hints:\n",
        "# In case of input data being supplied to the question, it should be assumed to be a console input.\n",
        "# tuple() method can convert list to tuple\n",
        "\n",
        "# Solution:\n",
        "values=input()\n",
        "l=values.split(\",\")\n",
        "t=tuple(l)\n",
        "print(l)\n",
        "print(t)\n",
        "#----------------------------------------#\n"
      ],
      "metadata": {
        "colab": {
          "base_uri": "https://localhost:8080/"
        },
        "id": "rt5wtkC9CKBV",
        "outputId": "8f9f3f32-b872-49e1-a1c1-bcc6957dde01"
      },
      "execution_count": null,
      "outputs": [
        {
          "output_type": "stream",
          "name": "stdout",
          "text": [
            "33,44,55\n",
            "['33', '44', '55']\n",
            "('33', '44', '55')\n"
          ]
        }
      ]
    },
    {
      "cell_type": "markdown",
      "source": [
        "#----------------------------------------#\n",
        "Question 5\n",
        "Level 1\n",
        "\n",
        "Question:\n",
        "\n",
        "Define a class which has at least two methods:\n",
        "\n",
        "getString: \n",
        "\n",
        "to get a string from console input\n",
        "\n",
        "\n",
        "printString: \n",
        "\n",
        "to print the string in upper case.\n",
        "\n",
        "Also please include simple test function to test the class methods."
      ],
      "metadata": {
        "id": "HBf3ZhvNCWFy"
      }
    },
    {
      "cell_type": "code",
      "source": [
        "class Car():\n",
        "  def __init__(self):\n",
        "    self=self\n",
        "\n",
        "  def getString(self):\n",
        "    self.string=input('Please enter the string ')\n",
        "  def printString(self):\n",
        "    print(self.string.upper())"
      ],
      "metadata": {
        "id": "9dJUzQNxlAda"
      },
      "execution_count": null,
      "outputs": []
    },
    {
      "cell_type": "code",
      "source": [
        "car1=Car()"
      ],
      "metadata": {
        "id": "E1gNH93GlxIY"
      },
      "execution_count": null,
      "outputs": []
    },
    {
      "cell_type": "code",
      "source": [
        "car1.getString()"
      ],
      "metadata": {
        "colab": {
          "base_uri": "https://localhost:8080/"
        },
        "id": "Lho1T437l2eY",
        "outputId": "e27d680f-7047-4674-cfc3-a71ed9f721dc"
      },
      "execution_count": null,
      "outputs": [
        {
          "name": "stdout",
          "output_type": "stream",
          "text": [
            "Please enter the string my name is sajid\n"
          ]
        }
      ]
    },
    {
      "cell_type": "code",
      "source": [
        "car1.printString()"
      ],
      "metadata": {
        "colab": {
          "base_uri": "https://localhost:8080/"
        },
        "id": "Rvb1wLkyl58g",
        "outputId": "4a402af6-604d-4cad-bd92-8ab315dafafc"
      },
      "execution_count": null,
      "outputs": [
        {
          "output_type": "stream",
          "name": "stdout",
          "text": [
            "MY NAME IS SAJID\n"
          ]
        }
      ]
    },
    {
      "cell_type": "code",
      "source": [
        "# Hints:\n",
        "# Use __init__ method to construct some parameters\n",
        "\n",
        "# Solutionmy:\n",
        "class InputOutString():\n",
        "    def __init__(self):\n",
        "        self.s = \"\"\n",
        "\n",
        "    def getString(self):\n",
        "        self.s =input()\n",
        "\n",
        "    def printString(self):\n",
        "        print(self.s.upper())\n",
        "\n",
        "strObj = InputOutString()\n",
        "strObj.getString()\n",
        "strObj.printString()\n",
        "#----------------------------------------#"
      ],
      "metadata": {
        "colab": {
          "base_uri": "https://localhost:8080/"
        },
        "id": "JB6lGJlam0rZ",
        "outputId": "9a374ccc-16df-4ddb-e7e5-9c5bcb312d60"
      },
      "execution_count": null,
      "outputs": [
        {
          "output_type": "stream",
          "name": "stdout",
          "text": [
            "my name is Sajid\n",
            "MY NAME IS SAJID\n"
          ]
        }
      ]
    },
    {
      "cell_type": "markdown",
      "source": [
        "#----------------------------------------#\n",
        "'''Question 6\n",
        "Level 2\n",
        "\n",
        "Question:\n",
        "Write a program that calculates and prints the value according to the given formula:\n",
        "Q = Square root of [(2 * C * D)/H]\n",
        "Following are the fixed values of C and H:\n",
        "C is 50. H is 30.\n",
        "D is the variable whose values should be input to your program in a comma-separated sequence.\n",
        "Example\n",
        "Let us assume the following comma separated input sequence is given to the program:\n",
        "100,150,180\n",
        "The output of the program should be:\n",
        "18,22,24\n",
        "'''"
      ],
      "metadata": {
        "id": "3BY6yCeyn1p0"
      }
    },
    {
      "cell_type": "code",
      "source": [
        "def formula():\n",
        "  valuess=input()\n",
        "  final=[]\n",
        "  alist=valuess.split(',')\n",
        "  for i in range(len(alist)):\n",
        "    final.append(str(int(sqrt(2*50*int((alist[i]))//30))))\n",
        "  print(','.join(final))\n",
        "  # return alist"
      ],
      "metadata": {
        "id": "QrUSoJ4RpWiD"
      },
      "execution_count": null,
      "outputs": []
    },
    {
      "cell_type": "code",
      "source": [
        "'''\n",
        "Hints:\n",
        "If the output received is in decimal form, it should be rounded off to its nearest value (for example, if the output received is 26.0, it should be printed as 26)\n",
        "In case of input data being supplied to the question, it should be assumed to be a console input. \n",
        "\n",
        "Solution:\n",
        "#!/usr/bin/env python'''\n",
        "import math\n",
        "c=50\n",
        "h=30\n",
        "value = []\n",
        "items=[x for x in input().split(',')]\n",
        "for d in items:\n",
        "    value.append(str(int(round(math.sqrt(2*c*float(d)/h)))))\n",
        "\n",
        "print(','.join(value))\n",
        "#----------------------------------------#"
      ],
      "metadata": {
        "colab": {
          "base_uri": "https://localhost:8080/"
        },
        "id": "jDHptVy3qEp6",
        "outputId": "10d4b282-61c7-4611-abcc-d80d61cf9692"
      },
      "execution_count": null,
      "outputs": [
        {
          "output_type": "stream",
          "name": "stdout",
          "text": [
            "100,150,180\n",
            "18,22,24\n"
          ]
        }
      ]
    },
    {
      "cell_type": "markdown",
      "source": [
        "'''#----------------------------------------#\n",
        "Question 7\n",
        "\n",
        "Level 2\n",
        "\n",
        "Question:\n",
        "\n",
        "Write a program which takes 2 digits, X,Y as input and generates a 2-dimensional array.\n",
        " The element value in the i-th row and j-th column of the array should be i*j.\n",
        "Note: i=0,1.., X-1; j=0,1,¡­Y-1.\n",
        "Example\n",
        "\n",
        "Suppose the following inputs are given to the program:\n",
        "3,5\n",
        "\n",
        "Then, the output of the program should be:\n",
        "\n",
        "[[0, 0, 0, 0, 0],\n",
        "\n",
        " [0, 1, 2, 3, 4],\n",
        "\n",
        " [0, 2, 4, 6, 8]] \n",
        "\n",
        "'''"
      ],
      "metadata": {
        "id": "gGV9lk7ExZOF"
      }
    },
    {
      "cell_type": "code",
      "source": [
        "import numpy as np\n",
        "digits=[x for x in input().split(',')]\n",
        "arr=np.zeros((int(digits[0]),int(digits[1])))\n",
        "# print(arr)\n",
        "for row in range((arr.shape[0])):\n",
        "  for column in range(arr.shape[1]):\n",
        "    arr[row][column]=row*column\n",
        "print(arr)"
      ],
      "metadata": {
        "colab": {
          "base_uri": "https://localhost:8080/"
        },
        "id": "_Xa89SPAzYd9",
        "outputId": "4eb7d3d7-d2a5-4bdd-d6b1-bca97d709840"
      },
      "execution_count": null,
      "outputs": [
        {
          "output_type": "stream",
          "name": "stdout",
          "text": [
            "3,5\n",
            "[[0. 0. 0. 0. 0.]\n",
            " [0. 1. 2. 3. 4.]\n",
            " [0. 2. 4. 6. 8.]]\n"
          ]
        }
      ]
    },
    {
      "cell_type": "code",
      "source": [
        "'''Hints:\n",
        "Note: In case of input data being supplied to the question, it should be assumed to be a console input in a comma-separated form.\n",
        "\n",
        "Solution:\n",
        "'''\n",
        "input_str = input()\n",
        "dimensions=[int(x) for x in input_str.split(',')]\n",
        "rowNum=dimensions[0]\n",
        "colNum=dimensions[1]\n",
        "multilist = [[0 for col in range(colNum)] for row in range(rowNum)]\n",
        "\n",
        "for row in range(rowNum):\n",
        "    for col in range(colNum):\n",
        "        multilist[row][col]= row*col\n",
        "\n",
        "print(multilist)\n",
        "#----------------------------------------#"
      ],
      "metadata": {
        "colab": {
          "base_uri": "https://localhost:8080/"
        },
        "id": "xTM9NIQR2MX5",
        "outputId": "9200b00e-2737-4f84-e28f-a4fa222b6ac1"
      },
      "execution_count": null,
      "outputs": [
        {
          "output_type": "stream",
          "name": "stdout",
          "text": [
            "3,5\n",
            "[[0, 0, 0, 0, 0], [0, 1, 2, 3, 4], [0, 2, 4, 6, 8]]\n"
          ]
        }
      ]
    },
    {
      "cell_type": "code",
      "source": [
        "input_str = input()\n",
        "dimensions=[int(x) for x in input_str.split(',')]\n",
        "rowNum=dimensions[0]\n",
        "colNum=dimensions[1]\n",
        "multilist = [[0 for col in range(colNum)] for row in range(rowNum)]"
      ],
      "metadata": {
        "colab": {
          "base_uri": "https://localhost:8080/"
        },
        "id": "asCjii_A4hb9",
        "outputId": "cb63b055-f3c7-48af-dfc0-d804ca364c81"
      },
      "execution_count": null,
      "outputs": [
        {
          "name": "stdout",
          "output_type": "stream",
          "text": [
            "3,5\n"
          ]
        }
      ]
    },
    {
      "cell_type": "code",
      "source": [
        "multilist"
      ],
      "metadata": {
        "colab": {
          "base_uri": "https://localhost:8080/"
        },
        "id": "bTfM7Jjl4iYi",
        "outputId": "47189f72-b587-4b94-c12a-fac604d1a79c"
      },
      "execution_count": null,
      "outputs": [
        {
          "output_type": "execute_result",
          "data": {
            "text/plain": [
              "[[0, 0, 0, 0, 0], [0, 0, 0, 0, 0], [0, 0, 0, 0, 0]]"
            ]
          },
          "metadata": {},
          "execution_count": 80
        }
      ]
    },
    {
      "cell_type": "code",
      "source": [
        "ord('p')"
      ],
      "metadata": {
        "colab": {
          "base_uri": "https://localhost:8080/"
        },
        "id": "yLSNgdN94lkZ",
        "outputId": "6b2dc26e-8899-4c16-9feb-274e19d5d56d"
      },
      "execution_count": null,
      "outputs": [
        {
          "output_type": "execute_result",
          "data": {
            "text/plain": [
              "112"
            ]
          },
          "metadata": {},
          "execution_count": 84
        }
      ]
    },
    {
      "cell_type": "markdown",
      "source": [
        "#Google Python Crash course"
      ],
      "metadata": {
        "id": "aFe2UigVP1Pj"
      }
    },
    {
      "cell_type": "markdown",
      "source": [
        "The fractional_part function divides the numerator by the denominator, and returns just the fractional part (a number between 0 and 1). Complete the body of the function so that it returns the right number.\n",
        "Note: Since division by 0 produces an error, if the denominator is 0, the function should return 0 instead of attempting the division."
      ],
      "metadata": {
        "id": "56I1SQf35g43"
      }
    },
    {
      "cell_type": "code",
      "source": [
        "def fractional_part(numerator, denominator):\n",
        "  if numerator and denominator !=0:\n",
        "    overall_answer=numerator/denominator\n",
        "    interger_part=numerator//denominator\n",
        "    return overall_answer-interger_part\n",
        "  return 0\n",
        "\t# Operate with numerator and denominator to \n",
        "  # keep just the fractional part of the quotient\n",
        "    \n",
        "\n",
        "\n",
        "print(fractional_part(5, 5)) # Should be 0\n",
        "print(fractional_part(5, 4)) # Should be 0.25\n",
        "print(fractional_part(5, 3)) # Should be 0.66...\n",
        "print(fractional_part(5, 2)) # Should be 0.5\n",
        "print(fractional_part(5, 0)) # Should be 0\n",
        "print(fractional_part(0, 5)) # Should be 0"
      ],
      "metadata": {
        "colab": {
          "base_uri": "https://localhost:8080/"
        },
        "id": "IMhrLNt3qAG4",
        "outputId": "d26e3cf5-b060-4d11-b2a8-c8388074f801"
      },
      "execution_count": null,
      "outputs": [
        {
          "output_type": "stream",
          "name": "stdout",
          "text": [
            "0.0\n",
            "0.25\n",
            "0.6666666666666667\n",
            "0.5\n",
            "0\n",
            "0\n"
          ]
        }
      ]
    },
    {
      "cell_type": "code",
      "source": [
        "x=0\n",
        "while x==0:\n",
        "  x=x/2\n",
        "  x+=1\n",
        "  print(x)"
      ],
      "metadata": {
        "colab": {
          "base_uri": "https://localhost:8080/"
        },
        "id": "oqHK84OhJm0U",
        "outputId": "25c9f39c-3983-44c0-dc97-9bc630c9fc43"
      },
      "execution_count": null,
      "outputs": [
        {
          "output_type": "stream",
          "name": "stdout",
          "text": [
            "1.0\n"
          ]
        }
      ]
    },
    {
      "cell_type": "markdown",
      "source": [
        "Question 2\n",
        "Fill in the blanks to make the print_prime_factors function print all the prime factors of a number. A prime factor is a number that is prime and divides another without a remainder."
      ],
      "metadata": {
        "id": "2dsRB-pD5VJb"
      }
    },
    {
      "cell_type": "code",
      "source": [
        "def print_prime_factors(number):\n",
        "  # Start with two, which is the first prime\n",
        "  factor = 2\n",
        "  # Keep going until the factor is larger than the number\n",
        "  while factor <= number:\n",
        "    # Check if factor is a divisor of number\n",
        "    if number % factor == 0:\n",
        "      # If it is, print it and divide the original number\n",
        "      print(factor)\n",
        "      number = number / factor\n",
        "    else:\n",
        "      # If it's not, increment the factor by one\n",
        "      factor+=1\n",
        "      \n",
        "  return \"Done\"\n",
        "\n",
        "print_prime_factors(100)\n",
        "# Should print 2,2,5,5\n",
        "# DO NOT DELETE THIS COMMENT"
      ],
      "metadata": {
        "colab": {
          "base_uri": "https://localhost:8080/",
          "height": 105
        },
        "id": "CIiEjmD4BEsz",
        "outputId": "6fee1102-916a-4da2-c624-15a689aa9e20"
      },
      "execution_count": null,
      "outputs": [
        {
          "output_type": "stream",
          "name": "stdout",
          "text": [
            "2\n",
            "2\n",
            "5\n",
            "5\n"
          ]
        },
        {
          "output_type": "execute_result",
          "data": {
            "application/vnd.google.colaboratory.intrinsic+json": {
              "type": "string"
            },
            "text/plain": [
              "'Done'"
            ]
          },
          "metadata": {},
          "execution_count": 7
        }
      ]
    },
    {
      "cell_type": "code",
      "source": [
        "def is_power_of_two(n):\n",
        "  # Check if the number can be divided by two without a remainder\n",
        "  while n % 2 == 0:\n",
        "    if n == 0 :\n",
        "      break;      \n",
        "    n = n / 2\n",
        "  # If after dividing by two the number is 1, it's a power of two\n",
        "  if n == 1:\n",
        "    return True\n",
        "  return False\n",
        "  \n",
        "\n",
        "print(is_power_of_two(0)) # Should be False\n",
        "print(is_power_of_two(1)) # Should be True\n",
        "print(is_power_of_two(8)) # Should be True\n",
        "print(is_power_of_two(9)) # Should be False"
      ],
      "metadata": {
        "colab": {
          "base_uri": "https://localhost:8080/"
        },
        "id": "rQwedulZJPUB",
        "outputId": "77cb37d5-9f35-4465-8086-364a799b9f71"
      },
      "execution_count": null,
      "outputs": [
        {
          "output_type": "stream",
          "name": "stdout",
          "text": [
            "False\n",
            "True\n",
            "True\n",
            "False\n"
          ]
        }
      ]
    },
    {
      "cell_type": "markdown",
      "source": [
        "4.\n",
        "Question 4\n",
        "Fill in the empty function so that it returns the sum of all the divisors of a number, without including it. A divisor is a number that divides into another without a remainder."
      ],
      "metadata": {
        "id": "jaOzvqktP2uv"
      }
    },
    {
      "cell_type": "code",
      "source": [
        "def sum_divisors(n):\n",
        "  sum = 0\n",
        "  # Return the sum of all divisors of n, not including n\n",
        "  num=1\n",
        "  while num<n:\n",
        "    if n%num==0:\n",
        "      sum+=num\n",
        "    num+=1\n",
        "\n",
        "  return sum\n",
        "\n",
        "print(sum_divisors(0))\n",
        "# 0\n",
        "print(sum_divisors(3)) # Should sum of 1\n",
        "# 1\n",
        "print(sum_divisors(36)) # Should sum of 1+2+3+4+6+9+12+18\n",
        "# 55\n",
        "print(sum_divisors(102)) # Should be sum of 2+3+6+17+34+51\n",
        "# 114\n"
      ],
      "metadata": {
        "colab": {
          "base_uri": "https://localhost:8080/"
        },
        "id": "4Swzzt_kJ1lA",
        "outputId": "6c3b6945-cc52-4a1e-b486-fd72874d2ee5"
      },
      "execution_count": null,
      "outputs": [
        {
          "output_type": "stream",
          "name": "stdout",
          "text": [
            "0\n",
            "1\n",
            "55\n",
            "114\n"
          ]
        }
      ]
    },
    {
      "cell_type": "markdown",
      "source": [
        "The multiplication_table function prints the results of a number passed to it multiplied by 1 through 5. An additional requirement is that the result is not to exceed 25, which is done with the break statement. Fill in the blanks to complete the function to satisfy these conditions."
      ],
      "metadata": {
        "id": "f-rxg-Hu7a8G"
      }
    },
    {
      "cell_type": "code",
      "source": [
        "def multiplication_table(number):\n",
        "\t# Initialize the starting point of the multiplication table\n",
        "\tmultiplier = 1\n",
        "\t# Only want to loop through 5\n",
        "\twhile multiplier <= 5:\n",
        "\t\tresult = multiplier*number\n",
        "\t\t# What is the additional condition to exit out of the loop?\n",
        "\t\tif result>25 :\n",
        "\t\t\tbreak\n",
        "\t\tprint(str(number) + \"x\" + str(multiplier) + \"=\" + str(result))\n",
        "\t\t# Increment the variable for the loop\n",
        "\t\tmultiplier+= 1\n",
        "\n",
        "multiplication_table(3) \n",
        "# Should print: 3x1=3 3x2=6 3x3=9 3x4=12 3x5=15\n",
        "\n",
        "multiplication_table(5) \n",
        "# Should print: 5x1=5 5x2=10 5x3=15 5x4=20 5x5=25\n",
        "\n",
        "multiplication_table(8)\t\n",
        "# Should print: 8x1=8 8x2=16 8x3=24"
      ],
      "metadata": {
        "colab": {
          "base_uri": "https://localhost:8080/"
        },
        "id": "XGLOa1PYP-Vq",
        "outputId": "5a8a083c-2a7e-4df0-d7c8-ae81edd8e216"
      },
      "execution_count": null,
      "outputs": [
        {
          "output_type": "stream",
          "name": "stdout",
          "text": [
            "3x1=3\n",
            "3x2=6\n",
            "3x3=9\n",
            "3x4=12\n",
            "3x5=15\n",
            "5x1=5\n",
            "5x2=10\n",
            "5x3=15\n",
            "5x4=20\n",
            "5x5=25\n",
            "8x1=8\n",
            "8x2=16\n",
            "8x3=24\n"
          ]
        }
      ]
    },
    {
      "cell_type": "markdown",
      "source": [
        "Question 2\n",
        "Fill in the blanks to make the factorial function return the factorial of n. Then, print the first 10 factorials (from 0 to 9) with the corresponding number. Remember that the factorial of a number is defined as the product of an integer and all integers before it. For example, the factorial of five (5!) is equal to 1*2*3*4*5=120. Also recall that the factorial of zero (0!) is equal to 1."
      ],
      "metadata": {
        "id": "PxVO83feJqZY"
      }
    },
    {
      "cell_type": "code",
      "source": [
        "def factorial(n):\n",
        "    result = 1\n",
        "    for x in range(1,n):\n",
        "        result = result *x\n",
        "    return result\n",
        "\n",
        "for n in range(0,10):\n",
        "    print(n, factorial(n+1))"
      ],
      "metadata": {
        "colab": {
          "base_uri": "https://localhost:8080/"
        },
        "id": "1jqVWElJN2ks",
        "outputId": "98c01b04-93ae-416d-b0fe-13280012e471"
      },
      "execution_count": null,
      "outputs": [
        {
          "output_type": "stream",
          "name": "stdout",
          "text": [
            "0 1\n",
            "1 1\n",
            "2 2\n",
            "3 6\n",
            "4 24\n",
            "5 120\n",
            "6 720\n",
            "7 5040\n",
            "8 40320\n",
            "9 362880\n"
          ]
        }
      ]
    },
    {
      "cell_type": "markdown",
      "source": [
        "Write a script that prints the first 10 cube numbers (x**3), starting with x=1 and ending with x=10."
      ],
      "metadata": {
        "id": "A8BTc4b_OMm2"
      }
    },
    {
      "cell_type": "code",
      "source": [
        "for x in range(1,11):\n",
        "  print(x**3)"
      ],
      "metadata": {
        "colab": {
          "base_uri": "https://localhost:8080/"
        },
        "id": "dGJTSVLWO0_f",
        "outputId": "d6f52df4-b085-47a9-fcc3-ada5bb5cb758"
      },
      "execution_count": null,
      "outputs": [
        {
          "output_type": "stream",
          "name": "stdout",
          "text": [
            "1\n",
            "8\n",
            "27\n",
            "64\n",
            "125\n",
            "216\n",
            "343\n",
            "512\n",
            "729\n",
            "1000\n"
          ]
        }
      ]
    },
    {
      "cell_type": "markdown",
      "source": [
        "Question 4\n",
        "Write a script that prints the multiples of 7 between 0 and 100. Print one multiple per line and avoid printing any numbers that aren't multiples of 7. Remember that 0 is also a multiple of 7"
      ],
      "metadata": {
        "id": "R9y3M_OuO4Mk"
      }
    },
    {
      "cell_type": "code",
      "source": [
        "# nums=range(0,101)\n",
        "for i in range(0,101):\n",
        "  if i%7==0:\n",
        "    print(i)"
      ],
      "metadata": {
        "colab": {
          "base_uri": "https://localhost:8080/"
        },
        "id": "ZUVXL8flPCwM",
        "outputId": "5d505d08-5960-4613-cdfb-6160ff5cf228"
      },
      "execution_count": null,
      "outputs": [
        {
          "output_type": "stream",
          "name": "stdout",
          "text": [
            "0\n",
            "7\n",
            "14\n",
            "21\n",
            "28\n",
            "35\n",
            "42\n",
            "49\n",
            "56\n",
            "63\n",
            "70\n",
            "77\n",
            "84\n",
            "91\n",
            "98\n"
          ]
        }
      ]
    },
    {
      "cell_type": "markdown",
      "source": [
        "Question 5\n",
        "The retry function tries to execute an operation that might fail, it retries the operation for a number of attempts.  Currently the code will keep executing the function even if it succeeds. Fill in the blank so the code stops trying after the operation succeeded."
      ],
      "metadata": {
        "id": "gxUqaY3JPtEG"
      }
    },
    {
      "cell_type": "code",
      "source": [
        "#@title\n",
        "# this is the syntax, functions are predefined in their system.\n",
        "'''def retry(operation, attempts):\n",
        "  for n in range(attempts):\n",
        "    if operation():\n",
        "      print(\"Attempt \" + str(n) + \" succeeded\")\n",
        "      break\n",
        "    else:\n",
        "      print(\"Attempt \" + str(n) + \" failed\")\n",
        "\n",
        "retry(create_user, 3)\n",
        "retry(stop_service, 5)'''"
      ],
      "metadata": {
        "colab": {
          "base_uri": "https://localhost:8080/",
          "height": 70
        },
        "collapsed": true,
        "id": "ghQR-f9rPXfV",
        "outputId": "5c4cd326-9569-4b03-edd9-d917678717b7"
      },
      "execution_count": null,
      "outputs": [
        {
          "output_type": "execute_result",
          "data": {
            "application/vnd.google.colaboratory.intrinsic+json": {
              "type": "string"
            },
            "text/plain": [
              "'def retry(operation, attempts):\\n  for n in range(attempts):\\n    if operation():\\n      print(\"Attempt \" + str(n) + \" succeeded\")\\n      break\\n    else:\\n      print(\"Attempt \" + str(n) + \" failed\")\\n\\nretry(create_user, 3)\\nretry(stop_service, 5)'"
            ]
          },
          "metadata": {},
          "execution_count": 9
        }
      ]
    },
    {
      "cell_type": "markdown",
      "source": [
        "The function sum_positive_numbers should return the sum of all positive numbers between the number n received and 1. For example, when n is 3 it should return 1+2+3=6, and when n is 5 it should return 1+2+3+4+5=15. Fill in the gaps to make this work:"
      ],
      "metadata": {
        "id": "1jNOtaZTQTLU"
      }
    },
    {
      "cell_type": "code",
      "source": [
        "def sum_positive_numbers(n):\n",
        "    # The base case is n being smaller than 1\n",
        "    if n < 1:      \n",
        "      \n",
        "        return 0\n",
        "\n",
        "    # The recursive case is adding this number to \n",
        "    # the sum of the numbers smaller than this one.\n",
        "    return n + sum_positive_numbers(n-1)\n",
        "\n",
        "print(sum_positive_numbers(3)) # Should be 6\n",
        "print(sum_positive_numbers(5)) # Should be 15"
      ],
      "metadata": {
        "colab": {
          "base_uri": "https://localhost:8080/"
        },
        "id": "1ixOakJdTmIx",
        "outputId": "a3cfae3d-3cd1-4af3-ce07-0ecd9ba45c3e"
      },
      "execution_count": null,
      "outputs": [
        {
          "output_type": "stream",
          "name": "stdout",
          "text": [
            "6\n",
            "15\n"
          ]
        }
      ]
    },
    {
      "cell_type": "markdown",
      "source": [
        "##recursion"
      ],
      "metadata": {
        "id": "NGKkL5yMTqAC"
      }
    },
    {
      "cell_type": "code",
      "source": [
        "def recursive_function(parameters):\n",
        "    if base_case_condition(parameters):\n",
        "        return base_case_value\n",
        "    recursive_function(modified_parameters)"
      ],
      "metadata": {
        "id": "HRfPpjpgOKn9"
      },
      "execution_count": null,
      "outputs": []
    },
    {
      "cell_type": "markdown",
      "source": [
        "Question 3\n",
        "Fill in the blanks to make the is_power_of function return whether the number is a power of the given base. Note: base is assumed to be a positive number. Tip: for functions that return a boolean value, you can return the result of a comparison."
      ],
      "metadata": {
        "id": "raTOdduhOLpe"
      }
    },
    {
      "cell_type": "code",
      "source": [
        "def is_power_of(number, base):\n",
        "  # Base case: when number is smaller than base.\n",
        "  if number < base:\n",
        "    # If number is equal to 1, it's a power (base**0).\n",
        "    if number==1:\n",
        "      return True\n",
        "    elif number!=1:\n",
        "      return False\n",
        "    return number/base\n",
        "\n",
        "  # Recursive case: keep dividing number by base.\n",
        "  return is_power_of(number/base,base)\n",
        "\n",
        "print(is_power_of(8,2)) # Should be True\n",
        "print(is_power_of(64,4)) # Should be True\n",
        "print(is_power_of(70,10)) # Should be False"
      ],
      "metadata": {
        "colab": {
          "base_uri": "https://localhost:8080/"
        },
        "id": "6dq6XasJPMLz",
        "outputId": "0c58a0bc-8247-42ef-e12c-ef953b6d51ba"
      },
      "execution_count": null,
      "outputs": [
        {
          "output_type": "stream",
          "name": "stdout",
          "text": [
            "True\n",
            "True\n",
            "False\n"
          ]
        }
      ]
    },
    {
      "cell_type": "markdown",
      "source": [
        "Question 4\n",
        "The count_users function recursively counts the amount of users that belong to a group in the company system, by going through each of the members of a group and if one of them is a group, recursively calling the function and counting the members. But it has a bug! Can you spot the problem and fix it?"
      ],
      "metadata": {
        "id": "BeFJgyCTcfZm"
      }
    },
    {
      "cell_type": "code",
      "source": [
        "def count_users(group):\n",
        "  count = 0\n",
        "  for member in get_members(group):\n",
        "    # print('memeber = '+member)\n",
        "    count += 1\n",
        "    if is_group(member):\n",
        "      count += count_users(member)-1\n",
        "    # else:\n",
        "      # count+=1\n",
        "  return count\n",
        "\n",
        "print(count_users(\"sales\")) # Should be 3\n",
        "print(count_users(\"engineering\")) # Should be 8\n",
        "print(count_users(\"everyone\")) # Should be 18"
      ],
      "metadata": {
        "id": "y0A8i1C3hPjY"
      },
      "execution_count": null,
      "outputs": []
    },
    {
      "cell_type": "markdown",
      "source": [
        "Question 5\n",
        "Implement the sum_positive_numbers function, as a recursive function that returns the sum of all positive numbers between the number n received and 1. For example, when n is 3 it should return 1+2+3=6, and when n is 5 it should return 1+2+3+4+5=15."
      ],
      "metadata": {
        "id": "BROVwW1Gm4Ls"
      }
    },
    {
      "cell_type": "code",
      "source": [
        "def sum_positive_numbers(n):\n",
        "  return 0\n",
        "\n",
        "print(sum_positive_numbers(3)) # Should be 6\n",
        "print(sum_positive_numbers(5)) # Should be 15"
      ],
      "metadata": {
        "id": "0WDZm2oam61G"
      },
      "execution_count": null,
      "outputs": []
    },
    {
      "cell_type": "markdown",
      "source": [
        "#Module 3 Graded Assessment"
      ],
      "metadata": {
        "id": "z5hhM416m9AC"
      }
    },
    {
      "cell_type": "markdown",
      "source": [
        "Fill in the blanks of this code to print out the numbers 1 through 7."
      ],
      "metadata": {
        "id": "ysIannjll0Px"
      }
    },
    {
      "cell_type": "code",
      "source": [
        "number = 1\n",
        "while number <= 7:\n",
        "\tprint(number, end=\" \")\n",
        "\tnumber+=1"
      ],
      "metadata": {
        "colab": {
          "base_uri": "https://localhost:8080/"
        },
        "id": "PmrjTr-ql2zO",
        "outputId": "4efcdf38-7511-40e3-c222-57a66bd12129"
      },
      "execution_count": null,
      "outputs": [
        {
          "output_type": "stream",
          "name": "stdout",
          "text": [
            "1 2 3 4 5 6 7 "
          ]
        }
      ]
    },
    {
      "cell_type": "markdown",
      "source": [
        "2.\n",
        "Question 2\n",
        "The show_letters function should print out each letter of a word on a separate line. Fill in the blanks to make that happen."
      ],
      "metadata": {
        "id": "yviRH-cCl4ht"
      }
    },
    {
      "cell_type": "code",
      "source": [
        "def show_letters(word):\n",
        "\tfor x in word:\n",
        "\t\tprint(x)\n",
        "\n",
        "show_letters(\"Hello\")\n",
        "# Should print one line per letter"
      ],
      "metadata": {
        "colab": {
          "base_uri": "https://localhost:8080/"
        },
        "id": "lZU1JqV_l7ZD",
        "outputId": "bf21c0e1-d65b-4c12-b915-95d257f01b37"
      },
      "execution_count": null,
      "outputs": [
        {
          "output_type": "stream",
          "name": "stdout",
          "text": [
            "H\n",
            "e\n",
            "l\n",
            "l\n",
            "o\n"
          ]
        }
      ]
    },
    {
      "cell_type": "markdown",
      "source": [
        "3.\n",
        "Question 3\n",
        "Complete the function digits(n) that returns how many digits the number has. For example: 25 has 2 digits and 144 has 3 digits. Tip: you can figure out the digits of a number by dividing it by 10 once per digit until there are no digits left."
      ],
      "metadata": {
        "id": "VjN-40tNl8qv"
      }
    },
    {
      "cell_type": "code",
      "source": [
        "def digits(n):\n",
        "\tcount = 0\n",
        "\tif n == 0:\n",
        "\t  return count\n",
        "\twhile (n>0):\n",
        "\t\tcount += 1\n",
        "    print(n)\n",
        "\t\tn/10\n",
        "\treturn count\n",
        "\t\n",
        "print(digits(25))   # Should print 2\n",
        "print(digits(144))  # Should print 3\n",
        "print(digits(1000)) # Should print 4\n",
        "print(digits(0))    # Should print 1"
      ],
      "metadata": {
        "colab": {
          "base_uri": "https://localhost:8080/",
          "height": 130
        },
        "id": "NMwQk5WG3_3n",
        "outputId": "6befd706-e48a-47fd-e4b1-6ef38fad65c7"
      },
      "execution_count": 8,
      "outputs": [
        {
          "output_type": "error",
          "ename": "IndentationError",
          "evalue": "ignored",
          "traceback": [
            "\u001b[0;36m  File \u001b[0;32m\"<ipython-input-8-29a581bd1204>\"\u001b[0;36m, line \u001b[0;32m7\u001b[0m\n\u001b[0;31m    print(n)\u001b[0m\n\u001b[0m            ^\u001b[0m\n\u001b[0;31mIndentationError\u001b[0m\u001b[0;31m:\u001b[0m unindent does not match any outer indentation level\n"
          ]
        }
      ]
    },
    {
      "cell_type": "code",
      "source": [
        ""
      ],
      "metadata": {
        "id": "62QJfi_d40PA"
      },
      "execution_count": null,
      "outputs": []
    }
  ]
}