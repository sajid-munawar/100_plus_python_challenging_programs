{
  "nbformat": 4,
  "nbformat_minor": 0,
  "metadata": {
    "colab": {
      "name": "100+ Python challenges.ipynb",
      "provenance": [],
      "collapsed_sections": [],
      "authorship_tag": "ABX9TyNBdt11jLbCoWLOrJN1ocVo",
      "include_colab_link": true
    },
    "kernelspec": {
      "name": "python3",
      "display_name": "Python 3"
    },
    "language_info": {
      "name": "python"
    }
  },
  "cells": [
    {
      "cell_type": "markdown",
      "metadata": {
        "id": "view-in-github",
        "colab_type": "text"
      },
      "source": [
        "<a href=\"https://colab.research.google.com/github/sajid-munawar/100_plus_python_challenging_programs/blob/master/100%2B_Python_challenges.ipynb\" target=\"_parent\"><img src=\"https://colab.research.google.com/assets/colab-badge.svg\" alt=\"Open In Colab\"/></a>"
      ]
    },
    {
      "cell_type": "markdown",
      "source": [
        "100+ Python challenging programming exercises\n",
        "\n",
        "Level description\n",
        "\n",
        "\n",
        "Level 1\tBeginner:\n",
        "\n",
        "Means someone who has just gone through an introductory Python course. He can solve some problems with 1 or 2 Python classes or functions. Normally, the answers could directly be found in the textbooks.\n",
        "\n",
        "Level 2 Intermediate:\n",
        "\n",
        "Means someone who has just learned Python, but already has a relatively strong programming background from before. He should be able to solve problems which may involve 3 or 3 Python classes or functions. The answers cannot be directly be found in the textbooks.\n",
        "\n",
        "Level 3\tAdvanced:\n",
        "\n",
        "He should use Python to solve more complex problem using more rich libraries functions and data structures and algorithms. He is supposed to solve the problem using several Python standard packages and advanced techniques."
      ],
      "metadata": {
        "id": "p1rDPQYd_5vo"
      }
    },
    {
      "cell_type": "markdown",
      "source": [
        "\n",
        "\n",
        "2.\tProblem template\n",
        "\n",
        "#----------------------------------------#\n",
        "Question\n",
        "\n",
        "Hints\n",
        "\n",
        "Solution\n",
        "\n",
        "3.\tQuestions\n",
        "\n",
        "#----------------------------------------#"
      ],
      "metadata": {
        "id": "z38U3k4_BJDQ"
      }
    },
    {
      "cell_type": "markdown",
      "source": [
        "\n",
        "Question 1\n",
        "Level 1\n",
        "\n",
        "Question:\n",
        "Write a program which will find all such numbers which are divisible by 7 but are not a multiple of 5,\n",
        "between 2000 and 3200 (both included).\n",
        "The numbers obtained should be printed in a comma-separated sequence on a single line."
      ],
      "metadata": {
        "id": "u95RQp9yBwad"
      }
    },
    {
      "cell_type": "code",
      "source": [
        "for i in range(2000,3200+1):\n",
        "  if i%7==0 and i%5!=0:\n",
        "    print(i,end=',')"
      ],
      "metadata": {
        "colab": {
          "base_uri": "https://localhost:8080/"
        },
        "id": "v2LLFWmSB9nu",
        "outputId": "2b891f4f-47bc-4a03-927a-8b6281b11c6b"
      },
      "execution_count": null,
      "outputs": [
        {
          "output_type": "stream",
          "name": "stdout",
          "text": [
            "2002,2009,2016,2023,2037,2044,2051,2058,2072,2079,2086,2093,2107,2114,2121,2128,2142,2149,2156,2163,2177,2184,2191,2198,2212,2219,2226,2233,2247,2254,2261,2268,2282,2289,2296,2303,2317,2324,2331,2338,2352,2359,2366,2373,2387,2394,2401,2408,2422,2429,2436,2443,2457,2464,2471,2478,2492,2499,2506,2513,2527,2534,2541,2548,2562,2569,2576,2583,2597,2604,2611,2618,2632,2639,2646,2653,2667,2674,2681,2688,2702,2709,2716,2723,2737,2744,2751,2758,2772,2779,2786,2793,2807,2814,2821,2828,2842,2849,2856,2863,2877,2884,2891,2898,2912,2919,2926,2933,2947,2954,2961,2968,2982,2989,2996,3003,3017,3024,3031,3038,3052,3059,3066,3073,3087,3094,3101,3108,3122,3129,3136,3143,3157,3164,3171,3178,3192,3199,"
          ]
        }
      ]
    },
    {
      "cell_type": "code",
      "source": [
        "alist=[]\n",
        "for i in range(2000,3200+1):\n",
        "  if i%7==0 and i%5!=0:\n",
        "    alist.append(i)\n",
        "  # print(i,end=' ')\n",
        "print(alist)"
      ],
      "metadata": {
        "colab": {
          "base_uri": "https://localhost:8080/"
        },
        "id": "m55Gltg8DFXi",
        "outputId": "b11d6b70-a4de-4eba-feef-db6c57c8905c"
      },
      "execution_count": null,
      "outputs": [
        {
          "output_type": "stream",
          "name": "stdout",
          "text": [
            "[2002, 2009, 2016, 2023, 2037, 2044, 2051, 2058, 2072, 2079, 2086, 2093, 2107, 2114, 2121, 2128, 2142, 2149, 2156, 2163, 2177, 2184, 2191, 2198, 2212, 2219, 2226, 2233, 2247, 2254, 2261, 2268, 2282, 2289, 2296, 2303, 2317, 2324, 2331, 2338, 2352, 2359, 2366, 2373, 2387, 2394, 2401, 2408, 2422, 2429, 2436, 2443, 2457, 2464, 2471, 2478, 2492, 2499, 2506, 2513, 2527, 2534, 2541, 2548, 2562, 2569, 2576, 2583, 2597, 2604, 2611, 2618, 2632, 2639, 2646, 2653, 2667, 2674, 2681, 2688, 2702, 2709, 2716, 2723, 2737, 2744, 2751, 2758, 2772, 2779, 2786, 2793, 2807, 2814, 2821, 2828, 2842, 2849, 2856, 2863, 2877, 2884, 2891, 2898, 2912, 2919, 2926, 2933, 2947, 2954, 2961, 2968, 2982, 2989, 2996, 3003, 3017, 3024, 3031, 3038, 3052, 3059, 3066, 3073, 3087, 3094, 3101, 3108, 3122, 3129, 3136, 3143, 3157, 3164, 3171, 3178, 3192, 3199]\n"
          ]
        }
      ]
    },
    {
      "cell_type": "code",
      "source": [
        "\n",
        "\n",
        "# Hints:\n",
        "# Consider use range(#begin, #end) method\n",
        "\n",
        "# Solution:\n",
        "l=[]\n",
        "for i in range(2000, 3201):\n",
        "    if (i%7==0) and (i%5!=0):\n",
        "        l.append(str(i))\n",
        "\n",
        "print(','.join(l))\n",
        "#----------------------------------------#"
      ],
      "metadata": {
        "colab": {
          "base_uri": "https://localhost:8080/"
        },
        "id": "OtDSaVMdD40O",
        "outputId": "54029954-ee6f-4923-89e7-f82914fd160c"
      },
      "execution_count": null,
      "outputs": [
        {
          "output_type": "stream",
          "name": "stdout",
          "text": [
            "2002,,2009,,2016,,2023,,2037,,2044,,2051,,2058,,2072,,2079,,2086,,2093,,2107,,2114,,2121,,2128,,2142,,2149,,2156,,2163,,2177,,2184,,2191,,2198,,2212,,2219,,2226,,2233,,2247,,2254,,2261,,2268,,2282,,2289,,2296,,2303,,2317,,2324,,2331,,2338,,2352,,2359,,2366,,2373,,2387,,2394,,2401,,2408,,2422,,2429,,2436,,2443,,2457,,2464,,2471,,2478,,2492,,2499,,2506,,2513,,2527,,2534,,2541,,2548,,2562,,2569,,2576,,2583,,2597,,2604,,2611,,2618,,2632,,2639,,2646,,2653,,2667,,2674,,2681,,2688,,2702,,2709,,2716,,2723,,2737,,2744,,2751,,2758,,2772,,2779,,2786,,2793,,2807,,2814,,2821,,2828,,2842,,2849,,2856,,2863,,2877,,2884,,2891,,2898,,2912,,2919,,2926,,2933,,2947,,2954,,2961,,2968,,2982,,2989,,2996,,3003,,3017,,3024,,3031,,3038,,3052,,3059,,3066,,3073,,3087,,3094,,3101,,3108,,3122,,3129,,3136,,3143,,3157,,3164,,3171,,3178,,3192,,3199\n"
          ]
        }
      ]
    },
    {
      "cell_type": "markdown",
      "source": [
        "#----------------------------------------#\n",
        "Question 2\n",
        "Level 1\n",
        "\n",
        "Question:\n",
        "\n",
        "Write a program which can compute the factorial of a given numbers.\n",
        "The results should be printed in a comma-separated sequence on a single line.\n",
        "Suppose the following input is supplied to the program:\n",
        "\n",
        "8\n",
        "\n",
        "Then, the output should be:\n",
        "\n",
        "40320"
      ],
      "metadata": {
        "id": "p5qyxLNKEdi9"
      }
    },
    {
      "cell_type": "code",
      "source": [
        "num=int(input('please enter num'))\n",
        "a=1\n",
        "for i in range(1,num+1):\n",
        "  a*=i\n",
        "  print(a,end=',')"
      ],
      "metadata": {
        "colab": {
          "base_uri": "https://localhost:8080/"
        },
        "id": "t6_9mpMVOOx-",
        "outputId": "055957bc-10b6-42ec-b4be-ab19cf318831"
      },
      "execution_count": 9,
      "outputs": [
        {
          "output_type": "stream",
          "name": "stdout",
          "text": [
            "please enter num8\n",
            "1,2,6,24,120,720,5040,40320,"
          ]
        }
      ]
    },
    {
      "cell_type": "code",
      "source": [
        "1*2*3*4*5*6*7*8"
      ],
      "metadata": {
        "id": "Z06kfKN1Oi1R",
        "colab": {
          "base_uri": "https://localhost:8080/"
        },
        "outputId": "1a56bd96-58ec-413a-daee-974e166f6658"
      },
      "execution_count": 8,
      "outputs": [
        {
          "output_type": "execute_result",
          "data": {
            "text/plain": [
              "40320"
            ]
          },
          "metadata": {},
          "execution_count": 8
        }
      ]
    },
    {
      "cell_type": "code",
      "source": [
        "# Hints:\n",
        "# In case of input data being supplied to the question, it should be assumed to be a console input.\n",
        "\n",
        "# Solution:\n",
        "def fact(x):\n",
        "    if x == 0:\n",
        "        return 1\n",
        "    return x * fact(x - 1)\n",
        "\n",
        "x=int(input())\n",
        "print(fact(x))\n",
        "#----------------------------------------#"
      ],
      "metadata": {
        "colab": {
          "base_uri": "https://localhost:8080/"
        },
        "id": "K527fZk-v-qV",
        "outputId": "5d25a62b-bdbe-4285-e172-b9ec853bbb75"
      },
      "execution_count": 10,
      "outputs": [
        {
          "output_type": "stream",
          "name": "stdout",
          "text": [
            "8\n",
            "40320\n"
          ]
        }
      ]
    },
    {
      "cell_type": "code",
      "source": [
        "def abc(x):\n",
        "  if x==0:\n",
        "    return 1\n",
        "  # abc(x-4)\n",
        "  return x*fact(x-1)"
      ],
      "metadata": {
        "id": "IZY3HJnU1_N0"
      },
      "execution_count": 15,
      "outputs": []
    },
    {
      "cell_type": "code",
      "source": [
        "# fact(968) max limit"
      ],
      "metadata": {
        "id": "_RFATstG4Fk8"
      },
      "execution_count": 37,
      "outputs": []
    },
    {
      "cell_type": "markdown",
      "source": [
        "#----------------------------------------#\n",
        "Question 3\n",
        "Level 1\n",
        "\n",
        "Question:\n",
        "\n",
        "With a given integral number n, write a program to generate a dictionary that contains (i, i*i) such that is an integral number between 1 and n (both included). and then the program should print the dictionary.\n",
        "Suppose the following input is supplied to the program:\n",
        "\n",
        "8\n",
        "\n",
        "Then, the output should be:\n",
        "\n",
        "{1: 1, 2: 4, 3: 9, 4: 16, 5: 25, 6: 36, 7: 49, 8: 64}"
      ],
      "metadata": {
        "id": "HP8rm7_Y4IGB"
      }
    },
    {
      "cell_type": "code",
      "source": [
        "def dic(x):\n",
        "  dictionary={}\n",
        "  for i in range(1,x+1):\n",
        "    dictionary[i]=i*i\n",
        "  print(dictionary)"
      ],
      "metadata": {
        "id": "HANFBCOA5h1Z"
      },
      "execution_count": 40,
      "outputs": []
    },
    {
      "cell_type": "code",
      "source": [
        "dic(8)"
      ],
      "metadata": {
        "colab": {
          "base_uri": "https://localhost:8080/"
        },
        "id": "5yzlXpjh6Uz-",
        "outputId": "9e5d1dc3-47f7-4805-ab6e-0244589f4513"
      },
      "execution_count": 41,
      "outputs": [
        {
          "output_type": "stream",
          "name": "stdout",
          "text": [
            "{1: 1, 2: 4, 3: 9, 4: 16, 5: 25, 6: 36, 7: 49, 8: 64}\n"
          ]
        }
      ]
    },
    {
      "cell_type": "code",
      "source": [
        "# Hints:\n",
        "# In case of input data being supplied to the question, it should be assumed to be a console input.\n",
        "# Consider use dict()\n",
        "\n",
        "# Solution:\n",
        "n=int(input())\n",
        "d=dict()\n",
        "for i in range(1,n+1):\n",
        "    d[i]=i*i\n",
        "\n",
        "print(d)\n",
        "#----------------------------------------#"
      ],
      "metadata": {
        "id": "5vaMMCnY6WsL",
        "colab": {
          "base_uri": "https://localhost:8080/"
        },
        "outputId": "9a11546e-c883-4d2f-f31e-f3ca28387833"
      },
      "execution_count": 42,
      "outputs": [
        {
          "output_type": "stream",
          "name": "stdout",
          "text": [
            "8\n",
            "{1: 1, 2: 4, 3: 9, 4: 16, 5: 25, 6: 36, 7: 49, 8: 64}\n"
          ]
        }
      ]
    },
    {
      "cell_type": "code",
      "source": [
        "#----------------------------------------#\n",
        "Question 4\n",
        "Level 1\n",
        "\n",
        "Question:\n",
        "\n",
        "Write a program which accepts a sequence of comma-separated numbers from console and generate a list and a tuple which contains every number.\n",
        "Suppose the following input is supplied to the program:\n",
        "\n",
        "34,67,55,33,12,98\n",
        "\n",
        "Then, the output should be:\n",
        "\n",
        "['34', '67', '55', '33', '12', '98']\n",
        "('34', '67', '55', '33', '12', '98')\n"
      ],
      "metadata": {
        "id": "bHmEiUWS62PK"
      },
      "execution_count": null,
      "outputs": []
    },
    {
      "cell_type": "code",
      "source": [
        "values=input()\n",
        "alist=values.split(',')\n",
        "tup=tuple(alist)\n",
        "print(alist)\n",
        "print(tup)"
      ],
      "metadata": {
        "colab": {
          "base_uri": "https://localhost:8080/"
        },
        "id": "sed7lJPT9pj_",
        "outputId": "0c3ffc05-bac7-4e6e-c4d0-3787ffafd120"
      },
      "execution_count": 79,
      "outputs": [
        {
          "output_type": "stream",
          "name": "stdout",
          "text": [
            "22,33,44,55\n",
            "['22', '33', '44', '55']\n",
            "('22', '33', '44', '55')\n"
          ]
        }
      ]
    },
    {
      "cell_type": "code",
      "source": [
        "# Hints:\n",
        "# In case of input data being supplied to the question, it should be assumed to be a console input.\n",
        "# tuple() method can convert list to tuple\n",
        "\n",
        "# Solution:\n",
        "values=input()\n",
        "l=values.split(\",\")\n",
        "t=tuple(l)\n",
        "print(l)\n",
        "print(t)\n",
        "#----------------------------------------#\n"
      ],
      "metadata": {
        "colab": {
          "base_uri": "https://localhost:8080/"
        },
        "id": "rt5wtkC9CKBV",
        "outputId": "8f9f3f32-b872-49e1-a1c1-bcc6957dde01"
      },
      "execution_count": 80,
      "outputs": [
        {
          "output_type": "stream",
          "name": "stdout",
          "text": [
            "33,44,55\n",
            "['33', '44', '55']\n",
            "('33', '44', '55')\n"
          ]
        }
      ]
    },
    {
      "cell_type": "code",
      "source": [
        ""
      ],
      "metadata": {
        "id": "HBf3ZhvNCWFy"
      },
      "execution_count": 80,
      "outputs": []
    }
  ]
}