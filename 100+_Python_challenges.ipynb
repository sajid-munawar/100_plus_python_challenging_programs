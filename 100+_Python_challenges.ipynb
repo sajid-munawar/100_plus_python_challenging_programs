{
  "cells": [
    {
      "cell_type": "markdown",
      "metadata": {
        "colab_type": "text",
        "id": "view-in-github"
      },
      "source": [
        "<a href=\"https://colab.research.google.com/github/sajid-munawar/100_plus_python_challenging_programs/blob/master/100%2B_Python_challenges.ipynb\" target=\"_parent\"><img src=\"https://colab.research.google.com/assets/colab-badge.svg\" alt=\"Open In Colab\"/></a>"
      ]
    },
    {
      "cell_type": "markdown",
      "metadata": {
        "id": "p1rDPQYd_5vo"
      },
      "source": [
        "100+ Python challenging programming exercises\n",
        "\n",
        "Level description\n",
        "\n",
        "\n",
        "Level 1\tBeginner:\n",
        "\n",
        "Means someone who has just gone through an introductory Python course. He can solve some problems with 1 or 2 Python classes or functions. Normally, the answers could directly be found in the textbooks.\n",
        "\n",
        "Level 2 Intermediate:\n",
        "\n",
        "Means someone who has just learned Python, but already has a relatively strong programming background from before. He should be able to solve problems which may involve 3 or 3 Python classes or functions. The answers cannot be directly be found in the textbooks.\n",
        "\n",
        "Level 3\tAdvanced:\n",
        "\n",
        "He should use Python to solve more complex problem using more rich libraries functions and data structures and algorithms. He is supposed to solve the problem using several Python standard packages and advanced techniques."
      ]
    },
    {
      "cell_type": "markdown",
      "metadata": {
        "id": "z38U3k4_BJDQ"
      },
      "source": [
        "\n",
        "\n",
        "2.\tProblem template\n",
        "\n",
        "#----------------------------------------#\n",
        "Question\n",
        "\n",
        "Hints\n",
        "\n",
        "Solution\n",
        "\n",
        "3.\tQuestions\n",
        "\n",
        "#----------------------------------------#"
      ]
    },
    {
      "cell_type": "markdown",
      "metadata": {
        "id": "u95RQp9yBwad"
      },
      "source": [
        "\n",
        "Question 1\n",
        "Level 1\n",
        "\n",
        "Question:\n",
        "Write a program which will find all such numbers which are divisible by 7 but are not a multiple of 5,\n",
        "between 2000 and 3200 (both included).\n",
        "The numbers obtained should be printed in a comma-separated sequence on a single line."
      ]
    },
    {
      "cell_type": "code",
      "execution_count": null,
      "metadata": {
        "colab": {
          "base_uri": "https://localhost:8080/"
        },
        "id": "v2LLFWmSB9nu",
        "outputId": "2b891f4f-47bc-4a03-927a-8b6281b11c6b"
      },
      "outputs": [
        {
          "name": "stdout",
          "output_type": "stream",
          "text": [
            "2002,2009,2016,2023,2037,2044,2051,2058,2072,2079,2086,2093,2107,2114,2121,2128,2142,2149,2156,2163,2177,2184,2191,2198,2212,2219,2226,2233,2247,2254,2261,2268,2282,2289,2296,2303,2317,2324,2331,2338,2352,2359,2366,2373,2387,2394,2401,2408,2422,2429,2436,2443,2457,2464,2471,2478,2492,2499,2506,2513,2527,2534,2541,2548,2562,2569,2576,2583,2597,2604,2611,2618,2632,2639,2646,2653,2667,2674,2681,2688,2702,2709,2716,2723,2737,2744,2751,2758,2772,2779,2786,2793,2807,2814,2821,2828,2842,2849,2856,2863,2877,2884,2891,2898,2912,2919,2926,2933,2947,2954,2961,2968,2982,2989,2996,3003,3017,3024,3031,3038,3052,3059,3066,3073,3087,3094,3101,3108,3122,3129,3136,3143,3157,3164,3171,3178,3192,3199,"
          ]
        }
      ],
      "source": [
        "for i in range(2000,3200+1):\n",
        "  if i%7==0 and i%5!=0:\n",
        "    print(i,end=',')"
      ]
    },
    {
      "cell_type": "code",
      "execution_count": null,
      "metadata": {
        "colab": {
          "base_uri": "https://localhost:8080/"
        },
        "id": "m55Gltg8DFXi",
        "outputId": "b11d6b70-a4de-4eba-feef-db6c57c8905c"
      },
      "outputs": [
        {
          "name": "stdout",
          "output_type": "stream",
          "text": [
            "[2002, 2009, 2016, 2023, 2037, 2044, 2051, 2058, 2072, 2079, 2086, 2093, 2107, 2114, 2121, 2128, 2142, 2149, 2156, 2163, 2177, 2184, 2191, 2198, 2212, 2219, 2226, 2233, 2247, 2254, 2261, 2268, 2282, 2289, 2296, 2303, 2317, 2324, 2331, 2338, 2352, 2359, 2366, 2373, 2387, 2394, 2401, 2408, 2422, 2429, 2436, 2443, 2457, 2464, 2471, 2478, 2492, 2499, 2506, 2513, 2527, 2534, 2541, 2548, 2562, 2569, 2576, 2583, 2597, 2604, 2611, 2618, 2632, 2639, 2646, 2653, 2667, 2674, 2681, 2688, 2702, 2709, 2716, 2723, 2737, 2744, 2751, 2758, 2772, 2779, 2786, 2793, 2807, 2814, 2821, 2828, 2842, 2849, 2856, 2863, 2877, 2884, 2891, 2898, 2912, 2919, 2926, 2933, 2947, 2954, 2961, 2968, 2982, 2989, 2996, 3003, 3017, 3024, 3031, 3038, 3052, 3059, 3066, 3073, 3087, 3094, 3101, 3108, 3122, 3129, 3136, 3143, 3157, 3164, 3171, 3178, 3192, 3199]\n"
          ]
        }
      ],
      "source": [
        "alist=[]\n",
        "for i in range(2000,3200+1):\n",
        "  if i%7==0 and i%5!=0:\n",
        "    alist.append(i)\n",
        "  # print(i,end=' ')\n",
        "print(alist)"
      ]
    },
    {
      "cell_type": "code",
      "execution_count": null,
      "metadata": {
        "colab": {
          "base_uri": "https://localhost:8080/"
        },
        "id": "Yi4bFR2P8xPJ",
        "outputId": "824399d6-dcf5-4b6e-9caa-3bbfde8597fb"
      },
      "outputs": [
        {
          "name": "stdout",
          "output_type": "stream",
          "text": [
            "2002,2009,2016,2023,2037,2044,2051,2058,2072,2079,2086,2093,2107,2114,2121,2128,2142,2149,2156,2163,2177,2184,2191,2198,2212,2219,2226,2233,2247,2254,2261,2268,2282,2289,2296,2303,2317,2324,2331,2338,2352,2359,2366,2373,2387,2394,2401,2408,2422,2429,2436,2443,2457,2464,2471,2478,2492,2499,2506,2513,2527,2534,2541,2548,2562,2569,2576,2583,2597,2604,2611,2618,2632,2639,2646,2653,2667,2674,2681,2688,2702,2709,2716,2723,2737,2744,2751,2758,2772,2779,2786,2793,2807,2814,2821,2828,2842,2849,2856,2863,2877,2884,2891,2898,2912,2919,2926,2933,2947,2954,2961,2968,2982,2989,2996,3003,3017,3024,3031,3038,3052,3059,3066,3073,3087,3094,3101,3108,3122,3129,3136,3143,3157,3164,3171,3178,3192,3199\n"
          ]
        }
      ],
      "source": [
        "alist1=[str(y) for y in range(2000,3201) if y%7==0 if y%5!=0]\n",
        "print(\",\".join((alist1)))\n",
        "# print(alist1)"
      ]
    },
    {
      "cell_type": "code",
      "execution_count": null,
      "metadata": {
        "colab": {
          "base_uri": "https://localhost:8080/"
        },
        "id": "OtDSaVMdD40O",
        "outputId": "54029954-ee6f-4923-89e7-f82914fd160c"
      },
      "outputs": [
        {
          "name": "stdout",
          "output_type": "stream",
          "text": [
            "2002,,2009,,2016,,2023,,2037,,2044,,2051,,2058,,2072,,2079,,2086,,2093,,2107,,2114,,2121,,2128,,2142,,2149,,2156,,2163,,2177,,2184,,2191,,2198,,2212,,2219,,2226,,2233,,2247,,2254,,2261,,2268,,2282,,2289,,2296,,2303,,2317,,2324,,2331,,2338,,2352,,2359,,2366,,2373,,2387,,2394,,2401,,2408,,2422,,2429,,2436,,2443,,2457,,2464,,2471,,2478,,2492,,2499,,2506,,2513,,2527,,2534,,2541,,2548,,2562,,2569,,2576,,2583,,2597,,2604,,2611,,2618,,2632,,2639,,2646,,2653,,2667,,2674,,2681,,2688,,2702,,2709,,2716,,2723,,2737,,2744,,2751,,2758,,2772,,2779,,2786,,2793,,2807,,2814,,2821,,2828,,2842,,2849,,2856,,2863,,2877,,2884,,2891,,2898,,2912,,2919,,2926,,2933,,2947,,2954,,2961,,2968,,2982,,2989,,2996,,3003,,3017,,3024,,3031,,3038,,3052,,3059,,3066,,3073,,3087,,3094,,3101,,3108,,3122,,3129,,3136,,3143,,3157,,3164,,3171,,3178,,3192,,3199\n"
          ]
        }
      ],
      "source": [
        "\n",
        "\n",
        "# Hints:\n",
        "# Consider use range(#begin, #end) method\n",
        "\n",
        "# Solution:\n",
        "l=[]\n",
        "for i in range(2000, 3201):\n",
        "    if (i%7==0) and (i%5!=0):\n",
        "        l.append(str(i))\n",
        "\n",
        "print(','.join(l))\n",
        "#----------------------------------------#"
      ]
    },
    {
      "cell_type": "markdown",
      "metadata": {
        "id": "p5qyxLNKEdi9"
      },
      "source": [
        "#----------------------------------------#\n",
        "Question 2\n",
        "Level 1\n",
        "\n",
        "Question:\n",
        "\n",
        "Write a program which can compute the factorial of a given numbers.\n",
        "The results should be printed in a comma-separated sequence on a single line.\n",
        "Suppose the following input is supplied to the program:\n",
        "\n",
        "8\n",
        "\n",
        "Then, the output should be:\n",
        "\n",
        "40320"
      ]
    },
    {
      "cell_type": "code",
      "execution_count": null,
      "metadata": {
        "colab": {
          "base_uri": "https://localhost:8080/"
        },
        "id": "t6_9mpMVOOx-",
        "outputId": "055957bc-10b6-42ec-b4be-ab19cf318831"
      },
      "outputs": [
        {
          "name": "stdout",
          "output_type": "stream",
          "text": [
            "please enter num8\n",
            "1,2,6,24,120,720,5040,40320,"
          ]
        }
      ],
      "source": [
        "num=int(input('please enter num'))\n",
        "a=1\n",
        "for i in range(1,num+1):\n",
        "  a*=i\n",
        "  print(a,end=',')"
      ]
    },
    {
      "cell_type": "code",
      "execution_count": null,
      "metadata": {
        "colab": {
          "base_uri": "https://localhost:8080/"
        },
        "id": "oWVJjub2_zF1",
        "outputId": "ee4c75f5-5fd4-4241-8ea0-060fab24ac51"
      },
      "outputs": [
        {
          "name": "stdout",
          "output_type": "stream",
          "text": [
            "please enter num8\n",
            "1,2,6,24,120,720,5040,40320\n"
          ]
        }
      ],
      "source": [
        "alist=[]\n",
        "num=int(input('please enter num'))\n",
        "a=1\n",
        "for i in range(1,num+1):\n",
        "  a*=i\n",
        "  alist.append(str(a))\n",
        "print(','.join(alist))"
      ]
    },
    {
      "cell_type": "code",
      "execution_count": null,
      "metadata": {
        "colab": {
          "base_uri": "https://localhost:8080/"
        },
        "id": "WCrXL4IpAXre",
        "outputId": "8c5bbfc8-a9a3-40cb-fedf-1a24eccb9375"
      },
      "outputs": [
        {
          "data": {
            "text/plain": [
              "48"
            ]
          },
          "execution_count": 18,
          "metadata": {},
          "output_type": "execute_result"
        }
      ],
      "source": [
        "(lambda x:x*x-1)(7)"
      ]
    },
    {
      "cell_type": "code",
      "execution_count": null,
      "metadata": {
        "colab": {
          "base_uri": "https://localhost:8080/"
        },
        "id": "Z06kfKN1Oi1R",
        "outputId": "1a56bd96-58ec-413a-daee-974e166f6658"
      },
      "outputs": [
        {
          "data": {
            "text/plain": [
              "40320"
            ]
          },
          "execution_count": 8,
          "metadata": {},
          "output_type": "execute_result"
        }
      ],
      "source": [
        "1*2*3*4*5*6*7*8"
      ]
    },
    {
      "cell_type": "code",
      "execution_count": null,
      "metadata": {
        "colab": {
          "base_uri": "https://localhost:8080/"
        },
        "id": "K527fZk-v-qV",
        "outputId": "5d25a62b-bdbe-4285-e172-b9ec853bbb75"
      },
      "outputs": [
        {
          "name": "stdout",
          "output_type": "stream",
          "text": [
            "8\n",
            "40320\n"
          ]
        }
      ],
      "source": [
        "# Hints:\n",
        "# In case of input data being supplied to the question, it should be assumed to be a console input.\n",
        "\n",
        "# Solution:\n",
        "def fact(x):\n",
        "    if x == 0:\n",
        "        return 1\n",
        "    return x * fact(x - 1)\n",
        "\n",
        "x=int(input())\n",
        "print(fact(x))\n",
        "#----------------------------------------#"
      ]
    },
    {
      "cell_type": "code",
      "execution_count": null,
      "metadata": {
        "id": "IZY3HJnU1_N0"
      },
      "outputs": [],
      "source": [
        "def abc(x):\n",
        "  if x==0:\n",
        "    return 1\n",
        "  # abc(x-4)\n",
        "  return x*fact(x-1)"
      ]
    },
    {
      "cell_type": "code",
      "execution_count": null,
      "metadata": {
        "id": "_RFATstG4Fk8"
      },
      "outputs": [],
      "source": [
        "# fact(968) max limit"
      ]
    },
    {
      "cell_type": "markdown",
      "metadata": {
        "id": "HP8rm7_Y4IGB"
      },
      "source": [
        "#----------------------------------------#\n",
        "Question 3\n",
        "Level 1\n",
        "\n",
        "Question:\n",
        "\n",
        "With a given integral number n, write a program to generate a dictionary that contains (i, i*i) such that is an integral number between 1 and n (both included). and then the program should print the dictionary.\n",
        "Suppose the following input is supplied to the program:\n",
        "\n",
        "8\n",
        "\n",
        "Then, the output should be:\n",
        "\n",
        "{1: 1, 2: 4, 3: 9, 4: 16, 5: 25, 6: 36, 7: 49, 8: 64}"
      ]
    },
    {
      "cell_type": "code",
      "execution_count": null,
      "metadata": {
        "id": "HANFBCOA5h1Z"
      },
      "outputs": [],
      "source": [
        "def dic(x):\n",
        "  dictionary={}\n",
        "  for i in range(1,x+1):\n",
        "    dictionary[i]=i*i\n",
        "  print(dictionary)"
      ]
    },
    {
      "cell_type": "code",
      "execution_count": null,
      "metadata": {
        "colab": {
          "base_uri": "https://localhost:8080/"
        },
        "id": "5yzlXpjh6Uz-",
        "outputId": "9e5d1dc3-47f7-4805-ab6e-0244589f4513"
      },
      "outputs": [
        {
          "name": "stdout",
          "output_type": "stream",
          "text": [
            "{1: 1, 2: 4, 3: 9, 4: 16, 5: 25, 6: 36, 7: 49, 8: 64}\n"
          ]
        }
      ],
      "source": [
        "dic(8)"
      ]
    },
    {
      "cell_type": "code",
      "execution_count": null,
      "metadata": {
        "colab": {
          "base_uri": "https://localhost:8080/"
        },
        "id": "5vaMMCnY6WsL",
        "outputId": "9a11546e-c883-4d2f-f31e-f3ca28387833"
      },
      "outputs": [
        {
          "name": "stdout",
          "output_type": "stream",
          "text": [
            "8\n",
            "{1: 1, 2: 4, 3: 9, 4: 16, 5: 25, 6: 36, 7: 49, 8: 64}\n"
          ]
        }
      ],
      "source": [
        "# Hints:\n",
        "# In case of input data being supplied to the question, it should be assumed to be a console input.\n",
        "# Consider use dict()\n",
        "\n",
        "# Solution:\n",
        "n=int(input())\n",
        "d=dict()\n",
        "for i in range(1,n+1):\n",
        "    d[i]=i*i\n",
        "\n",
        "print(d)\n",
        "#----------------------------------------#"
      ]
    },
    {
      "cell_type": "code",
      "execution_count": null,
      "metadata": {
        "id": "bHmEiUWS62PK"
      },
      "outputs": [],
      "source": [
        "#----------------------------------------#\n",
        "Question 4\n",
        "Level 1\n",
        "\n",
        "Question:\n",
        "\n",
        "Write a program which accepts a sequence of comma-separated numbers from console and generate a list and a tuple which contains every number.\n",
        "Suppose the following input is supplied to the program:\n",
        "\n",
        "34,67,55,33,12,98\n",
        "\n",
        "Then, the output should be:\n",
        "\n",
        "['34', '67', '55', '33', '12', '98']\n",
        "('34', '67', '55', '33', '12', '98')\n"
      ]
    },
    {
      "cell_type": "code",
      "execution_count": null,
      "metadata": {},
      "outputs": [],
      "source": []
    },
    {
      "cell_type": "code",
      "execution_count": null,
      "metadata": {
        "colab": {
          "base_uri": "https://localhost:8080/"
        },
        "id": "sed7lJPT9pj_",
        "outputId": "0c3ffc05-bac7-4e6e-c4d0-3787ffafd120"
      },
      "outputs": [
        {
          "name": "stdout",
          "output_type": "stream",
          "text": [
            "22,33,44,55\n",
            "['22', '33', '44', '55']\n",
            "('22', '33', '44', '55')\n"
          ]
        }
      ],
      "source": [
        "values=input()\n",
        "alist=values.split(',')\n",
        "tup=tuple(alist)\n",
        "print(alist)\n",
        "print(tup)"
      ]
    },
    {
      "cell_type": "code",
      "execution_count": null,
      "metadata": {
        "colab": {
          "base_uri": "https://localhost:8080/"
        },
        "id": "rt5wtkC9CKBV",
        "outputId": "8f9f3f32-b872-49e1-a1c1-bcc6957dde01"
      },
      "outputs": [
        {
          "name": "stdout",
          "output_type": "stream",
          "text": [
            "33,44,55\n",
            "['33', '44', '55']\n",
            "('33', '44', '55')\n"
          ]
        }
      ],
      "source": [
        "# Hints:\n",
        "# In case of input data being supplied to the question, it should be assumed to be a console input.\n",
        "# tuple() method can convert list to tuple\n",
        "\n",
        "# Solution:\n",
        "values=input()\n",
        "l=values.split(\",\")\n",
        "t=tuple(l)\n",
        "print(l)\n",
        "print(t)\n",
        "#----------------------------------------#\n"
      ]
    },
    {
      "cell_type": "markdown",
      "metadata": {
        "id": "HBf3ZhvNCWFy"
      },
      "source": [
        "#----------------------------------------#\n",
        "Question 5\n",
        "Level 1\n",
        "\n",
        "Question:\n",
        "\n",
        "Define a class which has at least two methods:\n",
        "\n",
        "getString: \n",
        "\n",
        "to get a string from console input\n",
        "\n",
        "\n",
        "printString: \n",
        "\n",
        "to print the string in upper case.\n",
        "\n",
        "Also please include simple test function to test the class methods."
      ]
    },
    {
      "cell_type": "code",
      "execution_count": 20,
      "metadata": {
        "id": "9dJUzQNxlAda"
      },
      "outputs": [],
      "source": [
        "class Car():\n",
        "  def __init__(self):\n",
        "    self=self\n",
        "\n",
        "  def getString(self):\n",
        "    self.string=input('Please enter the string ')\n",
        "  def printString(self):\n",
        "    print(self.string.upper())"
      ]
    },
    {
      "cell_type": "code",
      "execution_count": 21,
      "metadata": {
        "id": "E1gNH93GlxIY"
      },
      "outputs": [],
      "source": [
        "car1=Car()"
      ]
    },
    {
      "cell_type": "code",
      "execution_count": 22,
      "metadata": {
        "colab": {
          "base_uri": "https://localhost:8080/"
        },
        "id": "Lho1T437l2eY",
        "outputId": "e27d680f-7047-4674-cfc3-a71ed9f721dc"
      },
      "outputs": [
        {
          "name": "stdout",
          "output_type": "stream",
          "text": [
            "Please enter the string my name is sajid\n"
          ]
        }
      ],
      "source": [
        "car1.getString()"
      ]
    },
    {
      "cell_type": "code",
      "execution_count": 23,
      "metadata": {
        "colab": {
          "base_uri": "https://localhost:8080/"
        },
        "id": "Rvb1wLkyl58g",
        "outputId": "4a402af6-604d-4cad-bd92-8ab315dafafc"
      },
      "outputs": [
        {
          "name": "stdout",
          "output_type": "stream",
          "text": [
            "MY NAME IS SAJID\n"
          ]
        }
      ],
      "source": [
        "car1.printString()"
      ]
    },
    {
      "cell_type": "code",
      "execution_count": 24,
      "metadata": {
        "colab": {
          "base_uri": "https://localhost:8080/"
        },
        "id": "JB6lGJlam0rZ",
        "outputId": "9a374ccc-16df-4ddb-e7e5-9c5bcb312d60"
      },
      "outputs": [
        {
          "name": "stdout",
          "output_type": "stream",
          "text": [
            "my name is Sajid\n",
            "MY NAME IS SAJID\n"
          ]
        }
      ],
      "source": [
        "# Hints:\n",
        "# Use __init__ method to construct some parameters\n",
        "\n",
        "# Solutionmy:\n",
        "class InputOutString():\n",
        "    def __init__(self):\n",
        "        self.s = \"\"\n",
        "\n",
        "    def getString(self):\n",
        "        self.s =input()\n",
        "\n",
        "    def printString(self):\n",
        "        print(self.s.upper())\n",
        "\n",
        "strObj = InputOutString()\n",
        "strObj.getString()\n",
        "strObj.printString()\n",
        "#----------------------------------------#"
      ]
    },
    {
      "cell_type": "markdown",
      "metadata": {
        "id": "3BY6yCeyn1p0"
      },
      "source": [
        "#----------------------------------------#\n",
        "'''Question 6\n",
        "Level 2\n",
        "\n",
        "Question:\n",
        "Write a program that calculates and prints the value according to the given formula:\n",
        "Q = Square root of [(2 * C * D)/H]\n",
        "Following are the fixed values of C and H:\n",
        "C is 50. H is 30.\n",
        "D is the variable whose values should be input to your program in a comma-separated sequence.\n",
        "Example\n",
        "Let us assume the following comma separated input sequence is given to the program:\n",
        "100,150,180\n",
        "The output of the program should be:\n",
        "18,22,24\n",
        "'''"
      ]
    },
    {
      "cell_type": "code",
      "execution_count": 52,
      "metadata": {
        "id": "QrUSoJ4RpWiD"
      },
      "outputs": [],
      "source": [
        "def formula():\n",
        "  valuess=input()\n",
        "  final=[]\n",
        "  alist=valuess.split(',')\n",
        "  for i in range(len(alist)):\n",
        "    final.append(str(int(sqrt(2*50*int((alist[i]))//30))))\n",
        "  print(','.join(final))\n",
        "  # return alist"
      ]
    },
    {
      "cell_type": "code",
      "execution_count": 55,
      "metadata": {
        "colab": {
          "base_uri": "https://localhost:8080/"
        },
        "id": "jDHptVy3qEp6",
        "outputId": "10d4b282-61c7-4611-abcc-d80d61cf9692"
      },
      "outputs": [
        {
          "name": "stdout",
          "output_type": "stream",
          "text": [
            "100,150,180\n",
            "18,22,24\n"
          ]
        }
      ],
      "source": [
        "'''\n",
        "Hints:\n",
        "If the output received is in decimal form, it should be rounded off to its nearest value (for example, if the output received is 26.0, it should be printed as 26)\n",
        "In case of input data being supplied to the question, it should be assumed to be a console input. \n",
        "\n",
        "Solution:\n",
        "#!/usr/bin/env python'''\n",
        "import math\n",
        "c=50\n",
        "h=30\n",
        "value = []\n",
        "items=[x for x in input().split(',')]\n",
        "for d in items:\n",
        "    value.append(str(int(round(math.sqrt(2*c*float(d)/h)))))\n",
        "\n",
        "print(','.join(value))\n",
        "#----------------------------------------#"
      ]
    },
    {
      "cell_type": "markdown",
      "metadata": {
        "id": "gGV9lk7ExZOF"
      },
      "source": [
        "'''#----------------------------------------#\n",
        "Question 7\n",
        "\n",
        "Level 2\n",
        "\n",
        "Question:\n",
        "\n",
        "Write a program which takes 2 digits, X,Y as input and generates a 2-dimensional array.\n",
        " The element value in the i-th row and j-th column of the array should be i*j.\n",
        "Note: i=0,1.., X-1; j=0,1,¡­Y-1.\n",
        "Example\n",
        "\n",
        "Suppose the following inputs are given to the program:\n",
        "3,5\n",
        "\n",
        "Then, the output of the program should be:\n",
        "\n",
        "[[0, 0, 0, 0, 0],\n",
        "\n",
        " [0, 1, 2, 3, 4],\n",
        "\n",
        " [0, 2, 4, 6, 8]] \n",
        "\n",
        "'''"
      ]
    },
    {
      "cell_type": "code",
      "execution_count": 78,
      "metadata": {
        "colab": {
          "base_uri": "https://localhost:8080/"
        },
        "id": "_Xa89SPAzYd9",
        "outputId": "4eb7d3d7-d2a5-4bdd-d6b1-bca97d709840"
      },
      "outputs": [
        {
          "name": "stdout",
          "output_type": "stream",
          "text": [
            "3,5\n",
            "[[0. 0. 0. 0. 0.]\n",
            " [0. 1. 2. 3. 4.]\n",
            " [0. 2. 4. 6. 8.]]\n"
          ]
        }
      ],
      "source": [
        "import numpy as np\n",
        "digits=[x for x in input().split(',')]\n",
        "arr=np.zeros((int(digits[0]),int(digits[1])))\n",
        "# print(arr)\n",
        "for row in range((arr.shape[0])):\n",
        "  for column in range(arr.shape[1]):\n",
        "    arr[row][column]=row*column\n",
        "print(arr)"
      ]
    },
    {
      "cell_type": "code",
      "execution_count": 81,
      "metadata": {
        "colab": {
          "base_uri": "https://localhost:8080/"
        },
        "id": "xTM9NIQR2MX5",
        "outputId": "9200b00e-2737-4f84-e28f-a4fa222b6ac1"
      },
      "outputs": [
        {
          "name": "stdout",
          "output_type": "stream",
          "text": [
            "3,5\n",
            "[[0, 0, 0, 0, 0], [0, 1, 2, 3, 4], [0, 2, 4, 6, 8]]\n"
          ]
        }
      ],
      "source": [
        "'''Hints:\n",
        "Note: In case of input data being supplied to the question, it should be assumed to be a console input in a comma-separated form.\n",
        "\n",
        "Solution:\n",
        "'''\n",
        "input_str = input()\n",
        "dimensions=[int(x) for x in input_str.split(',')]\n",
        "rowNum=dimensions[0]\n",
        "colNum=dimensions[1]\n",
        "multilist = [[0 for col in range(colNum)] for row in range(rowNum)]\n",
        "\n",
        "for row in range(rowNum):\n",
        "    for col in range(colNum):\n",
        "        multilist[row][col]= row*col\n",
        "\n",
        "print(multilist)\n",
        "#----------------------------------------#"
      ]
    },
    {
      "cell_type": "code",
      "execution_count": 79,
      "metadata": {
        "colab": {
          "base_uri": "https://localhost:8080/"
        },
        "id": "asCjii_A4hb9",
        "outputId": "cb63b055-f3c7-48af-dfc0-d804ca364c81"
      },
      "outputs": [
        {
          "name": "stdout",
          "output_type": "stream",
          "text": [
            "3,5\n"
          ]
        }
      ],
      "source": [
        "input_str = input()\n",
        "dimensions=[int(x) for x in input_str.split(',')]\n",
        "rowNum=dimensions[0]\n",
        "colNum=dimensions[1]\n",
        "multilist = [[0 for col in range(colNum)] for row in range(rowNum)]"
      ]
    },
    {
      "cell_type": "code",
      "execution_count": 80,
      "metadata": {
        "colab": {
          "base_uri": "https://localhost:8080/"
        },
        "id": "bTfM7Jjl4iYi",
        "outputId": "47189f72-b587-4b94-c12a-fac604d1a79c"
      },
      "outputs": [
        {
          "data": {
            "text/plain": [
              "[[0, 0, 0, 0, 0], [0, 0, 0, 0, 0], [0, 0, 0, 0, 0]]"
            ]
          },
          "execution_count": 80,
          "metadata": {},
          "output_type": "execute_result"
        }
      ],
      "source": [
        "multilist"
      ]
    },
    {
      "cell_type": "code",
      "execution_count": 84,
      "metadata": {
        "colab": {
          "base_uri": "https://localhost:8080/"
        },
        "id": "yLSNgdN94lkZ",
        "outputId": "6b2dc26e-8899-4c16-9feb-274e19d5d56d"
      },
      "outputs": [
        {
          "data": {
            "text/plain": [
              "112"
            ]
          },
          "execution_count": 84,
          "metadata": {},
          "output_type": "execute_result"
        }
      ],
      "source": [
        "ord('p')"
      ]
    },
    {
      "cell_type": "code",
      "execution_count": null,
      "metadata": {
        "id": "56I1SQf35g43"
      },
      "outputs": [],
      "source": []
    }
  ],
  "metadata": {
    "colab": {
      "authorship_tag": "ABX9TyMsnteYdRxZYfnUMG9TjzcJ",
      "collapsed_sections": [],
      "include_colab_link": true,
      "name": "100+ Python challenges.ipynb",
      "provenance": []
    },
    "kernelspec": {
      "display_name": "Python 3",
      "name": "python3"
    },
    "language_info": {
      "name": "python"
    }
  },
  "nbformat": 4,
  "nbformat_minor": 0
}
